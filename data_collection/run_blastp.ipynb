{
 "cells": [
  {
   "cell_type": "code",
   "execution_count": 28,
   "id": "three-accused",
   "metadata": {},
   "outputs": [],
   "source": [
    "import pandas as pd\n",
    "import numpy as np"
   ]
  },
  {
   "cell_type": "code",
   "execution_count": null,
   "id": "interracial-massachusetts",
   "metadata": {},
   "outputs": [],
   "source": []
  },
  {
   "cell_type": "markdown",
   "id": "differential-locator",
   "metadata": {},
   "source": [
    "# Make blast dbs"
   ]
  },
  {
   "cell_type": "markdown",
   "id": "liberal-alberta",
   "metadata": {},
   "source": [
    "## Repeat with each worm as target/query"
   ]
  },
  {
   "cell_type": "code",
   "execution_count": 36,
   "id": "congressional-freeware",
   "metadata": {},
   "outputs": [],
   "source": [
    "target_worm='briggsae'\n",
    "query_worm='elegans'"
   ]
  },
  {
   "cell_type": "code",
   "execution_count": 37,
   "id": "everyday-citizenship",
   "metadata": {},
   "outputs": [],
   "source": [
    "query_fasta='/home/helena_hatrick/part_ii_project/protein_sets/run_blastp/'+query_worm+'_gene_id_longest_protein_sequence_no_description.fasta'\n",
    "target_fasta='/home/helena_hatrick/part_ii_project/protein_sets/run_blastp/'+target_worm+'_gene_id_longest_protein_sequence_no_description.fasta'\n",
    "target_db='/home/helena_hatrick/part_ii_project/protein_sets/run_blastp/'+target_worm+'_blastdb'"
   ]
  },
  {
   "cell_type": "code",
   "execution_count": 38,
   "id": "stainless-palace",
   "metadata": {},
   "outputs": [
    {
     "name": "stdout",
     "output_type": "stream",
     "text": [
      "\n",
      "\n",
      "Building a new DB, current time: 02/10/2021 13:07:26\n",
      "New DB name:   /home/helena_hatrick/part_ii_project/protein_sets/run_blastp/briggsae_blastdb\n",
      "New DB title:  /home/helena_hatrick/part_ii_project/protein_sets/run_blastp/briggsae_gene_id_longest_protein_sequence_no_description.fasta\n",
      "Sequence type: Protein\n",
      "Keep MBits: T\n",
      "Maximum file size: 1000000000B\n",
      "Adding sequences from FASTA; added 20829 sequences in 4.57635 seconds.\n"
     ]
    }
   ],
   "source": [
    "! makeblastdb -in {target_fasta} -out {target_db} -dbtype prot"
   ]
  },
  {
   "cell_type": "markdown",
   "id": "rolled-better",
   "metadata": {},
   "source": [
    "# Run blast"
   ]
  },
  {
   "cell_type": "code",
   "execution_count": 39,
   "id": "cultural-specialist",
   "metadata": {},
   "outputs": [],
   "source": [
    "out_file='/home/helena_hatrick/part_ii_project/protein_sets/run_blastp/'+target_worm+'_target_vs_'+query_worm+'_query.txt'"
   ]
  },
  {
   "cell_type": "code",
   "execution_count": 40,
   "id": "romance-batch",
   "metadata": {},
   "outputs": [],
   "source": [
    "! blastp -db {target_db} -query {query_fasta} -out {out_file} -outfmt 6"
   ]
  }
 ],
 "metadata": {
  "kernelspec": {
   "display_name": "Python 3",
   "language": "python",
   "name": "python3"
  },
  "language_info": {
   "codemirror_mode": {
    "name": "ipython",
    "version": 3
   },
   "file_extension": ".py",
   "mimetype": "text/x-python",
   "name": "python",
   "nbconvert_exporter": "python",
   "pygments_lexer": "ipython3",
   "version": "3.7.9"
  }
 },
 "nbformat": 4,
 "nbformat_minor": 5
}
