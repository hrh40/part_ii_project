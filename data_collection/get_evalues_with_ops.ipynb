{
 "cells": [
  {
   "cell_type": "code",
   "execution_count": 1,
   "id": "handled-feedback",
   "metadata": {},
   "outputs": [],
   "source": [
    "import pandas as pd\n",
    "import numpy as np"
   ]
  },
  {
   "cell_type": "markdown",
   "id": "quality-karaoke",
   "metadata": {},
   "source": [
    "I gave blastp fasta files with 20040 genes for elegans, and 20829 genes from briggsae. It compared every single elegans gene to every single briggsae gene (query=elegans, target=briggsae), and every single briggsae gene to every single elegans gene (query=briggsae, target=elegans)."
   ]
  },
  {
   "cell_type": "markdown",
   "id": "acting-remains",
   "metadata": {},
   "source": [
    "My end goal is to get the e values for the 1:1 ortholog pairs that I'm using in my synteny analysis for DAGChainer. "
   ]
  },
  {
   "cell_type": "markdown",
   "id": "motivated-lightweight",
   "metadata": {},
   "source": [
    "# Intro"
   ]
  },
  {
   "cell_type": "code",
   "execution_count": 2,
   "id": "consistent-romantic",
   "metadata": {},
   "outputs": [],
   "source": [
    "# make dictionary to convert elegans gene to the orthologous briggsae gene name and vice versa\n",
    "\n",
    "bed_12_columns=['chrom','chromStart','chromEnd','name','score','strand','thickStart','thickEnd','itemRgb',\n",
    "        'blockCount', 'blockSizes', 'blockStart']\n",
    "\n",
    "elegans_genes_tc=pd.read_csv('/home/helena_hatrick/part_ii_project/canonical_genesets/elegans_to_compare.bed', \n",
    "                             sep='\\t', names=bed_12_columns)\n",
    "briggsae_genes_tc=pd.read_csv('/home/helena_hatrick/part_ii_project/canonical_genesets/briggsae_to_compare.bed', \n",
    "                              sep='\\t', names=bed_12_columns)\n",
    "\n",
    "elegans_to_briggsae={}\n",
    "for i in range(len(elegans_genes_tc)):\n",
    "    elegans_to_briggsae[elegans_genes_tc['name'][i]]=briggsae_genes_tc['name'][i]\n",
    "    \n",
    "briggsae_to_elegans={}\n",
    "for i in range(len(briggsae_genes_tc)):\n",
    "    briggsae_to_elegans[briggsae_genes_tc['name'][i]]=elegans_genes_tc['name'][i]"
   ]
  },
  {
   "cell_type": "code",
   "execution_count": 3,
   "id": "altered-fabric",
   "metadata": {},
   "outputs": [],
   "source": [
    "# read in the blast outputs\n",
    "\n",
    "names=['qseqid','sseqid','pident','length','mismatch','gapopen','qstart','qend','sstart','send','evalue','bitscore']\n",
    "path_stem='/home/helena_hatrick/part_ii_project/protein_sets/run_blastp/'\n",
    "\n",
    "# go through each briggsae gene and see the e values for a match with every elegans gene\n",
    "elegans_vs_briggsae=pd.read_csv(path_stem+'elegans_target_vs_briggsae_query.txt',sep='\\t',names=names)\n",
    "\n",
    "# go through each elegans gene and see the e values for a match with every briggsae gene\n",
    "briggsae_vs_elegans=pd.read_csv(path_stem+'briggsae_target_vs_elegans_query.txt',sep='\\t',names=names)"
   ]
  },
  {
   "cell_type": "code",
   "execution_count": 4,
   "id": "aggregate-morris",
   "metadata": {},
   "outputs": [
    {
     "data": {
      "text/html": [
       "<div>\n",
       "<style scoped>\n",
       "    .dataframe tbody tr th:only-of-type {\n",
       "        vertical-align: middle;\n",
       "    }\n",
       "\n",
       "    .dataframe tbody tr th {\n",
       "        vertical-align: top;\n",
       "    }\n",
       "\n",
       "    .dataframe thead th {\n",
       "        text-align: right;\n",
       "    }\n",
       "</style>\n",
       "<table border=\"1\" class=\"dataframe\">\n",
       "  <thead>\n",
       "    <tr style=\"text-align: right;\">\n",
       "      <th></th>\n",
       "      <th>qseqid</th>\n",
       "      <th>sseqid</th>\n",
       "      <th>pident</th>\n",
       "      <th>length</th>\n",
       "      <th>mismatch</th>\n",
       "      <th>gapopen</th>\n",
       "      <th>qstart</th>\n",
       "      <th>qend</th>\n",
       "      <th>sstart</th>\n",
       "      <th>send</th>\n",
       "      <th>evalue</th>\n",
       "      <th>bitscore</th>\n",
       "    </tr>\n",
       "  </thead>\n",
       "  <tbody>\n",
       "    <tr>\n",
       "      <th>0</th>\n",
       "      <td>WBGene00023521</td>\n",
       "      <td>WBGene00020200</td>\n",
       "      <td>53.143</td>\n",
       "      <td>175</td>\n",
       "      <td>81</td>\n",
       "      <td>1</td>\n",
       "      <td>1</td>\n",
       "      <td>174</td>\n",
       "      <td>1</td>\n",
       "      <td>175</td>\n",
       "      <td>6.970000e-56</td>\n",
       "      <td>173.0</td>\n",
       "    </tr>\n",
       "    <tr>\n",
       "      <th>1</th>\n",
       "      <td>WBGene00023521</td>\n",
       "      <td>WBGene00021159</td>\n",
       "      <td>38.298</td>\n",
       "      <td>47</td>\n",
       "      <td>27</td>\n",
       "      <td>1</td>\n",
       "      <td>63</td>\n",
       "      <td>109</td>\n",
       "      <td>403</td>\n",
       "      <td>447</td>\n",
       "      <td>5.000000e-01</td>\n",
       "      <td>30.0</td>\n",
       "    </tr>\n",
       "    <tr>\n",
       "      <th>2</th>\n",
       "      <td>WBGene00023521</td>\n",
       "      <td>WBGene00020648</td>\n",
       "      <td>35.714</td>\n",
       "      <td>42</td>\n",
       "      <td>27</td>\n",
       "      <td>0</td>\n",
       "      <td>49</td>\n",
       "      <td>90</td>\n",
       "      <td>6</td>\n",
       "      <td>47</td>\n",
       "      <td>1.200000e+00</td>\n",
       "      <td>28.9</td>\n",
       "    </tr>\n",
       "    <tr>\n",
       "      <th>3</th>\n",
       "      <td>WBGene00023521</td>\n",
       "      <td>WBGene00013566</td>\n",
       "      <td>35.385</td>\n",
       "      <td>65</td>\n",
       "      <td>33</td>\n",
       "      <td>3</td>\n",
       "      <td>75</td>\n",
       "      <td>138</td>\n",
       "      <td>2</td>\n",
       "      <td>58</td>\n",
       "      <td>1.300000e+00</td>\n",
       "      <td>28.5</td>\n",
       "    </tr>\n",
       "    <tr>\n",
       "      <th>4</th>\n",
       "      <td>WBGene00023521</td>\n",
       "      <td>WBGene00007324</td>\n",
       "      <td>24.038</td>\n",
       "      <td>104</td>\n",
       "      <td>73</td>\n",
       "      <td>2</td>\n",
       "      <td>57</td>\n",
       "      <td>157</td>\n",
       "      <td>59</td>\n",
       "      <td>159</td>\n",
       "      <td>2.400000e+00</td>\n",
       "      <td>27.3</td>\n",
       "    </tr>\n",
       "    <tr>\n",
       "      <th>...</th>\n",
       "      <td>...</td>\n",
       "      <td>...</td>\n",
       "      <td>...</td>\n",
       "      <td>...</td>\n",
       "      <td>...</td>\n",
       "      <td>...</td>\n",
       "      <td>...</td>\n",
       "      <td>...</td>\n",
       "      <td>...</td>\n",
       "      <td>...</td>\n",
       "      <td>...</td>\n",
       "      <td>...</td>\n",
       "    </tr>\n",
       "    <tr>\n",
       "      <th>987289</th>\n",
       "      <td>WBGene00304771</td>\n",
       "      <td>WBGene00005089</td>\n",
       "      <td>21.212</td>\n",
       "      <td>165</td>\n",
       "      <td>93</td>\n",
       "      <td>6</td>\n",
       "      <td>106</td>\n",
       "      <td>259</td>\n",
       "      <td>156</td>\n",
       "      <td>294</td>\n",
       "      <td>5.000000e+00</td>\n",
       "      <td>27.7</td>\n",
       "    </tr>\n",
       "    <tr>\n",
       "      <th>987290</th>\n",
       "      <td>WBGene00304771</td>\n",
       "      <td>WBGene00002038</td>\n",
       "      <td>25.581</td>\n",
       "      <td>86</td>\n",
       "      <td>52</td>\n",
       "      <td>1</td>\n",
       "      <td>194</td>\n",
       "      <td>267</td>\n",
       "      <td>519</td>\n",
       "      <td>604</td>\n",
       "      <td>5.200000e+00</td>\n",
       "      <td>28.1</td>\n",
       "    </tr>\n",
       "    <tr>\n",
       "      <th>987291</th>\n",
       "      <td>WBGene00304771</td>\n",
       "      <td>WBGene00022408</td>\n",
       "      <td>23.864</td>\n",
       "      <td>176</td>\n",
       "      <td>102</td>\n",
       "      <td>7</td>\n",
       "      <td>50</td>\n",
       "      <td>213</td>\n",
       "      <td>54</td>\n",
       "      <td>209</td>\n",
       "      <td>5.600000e+00</td>\n",
       "      <td>27.7</td>\n",
       "    </tr>\n",
       "    <tr>\n",
       "      <th>987292</th>\n",
       "      <td>WBGene00304771</td>\n",
       "      <td>WBGene00007633</td>\n",
       "      <td>35.000</td>\n",
       "      <td>40</td>\n",
       "      <td>25</td>\n",
       "      <td>1</td>\n",
       "      <td>15</td>\n",
       "      <td>53</td>\n",
       "      <td>88</td>\n",
       "      <td>127</td>\n",
       "      <td>7.200000e+00</td>\n",
       "      <td>26.9</td>\n",
       "    </tr>\n",
       "    <tr>\n",
       "      <th>987293</th>\n",
       "      <td>WBGene00304771</td>\n",
       "      <td>WBGene00018180</td>\n",
       "      <td>27.059</td>\n",
       "      <td>85</td>\n",
       "      <td>56</td>\n",
       "      <td>4</td>\n",
       "      <td>47</td>\n",
       "      <td>130</td>\n",
       "      <td>42</td>\n",
       "      <td>121</td>\n",
       "      <td>9.000000e+00</td>\n",
       "      <td>26.9</td>\n",
       "    </tr>\n",
       "  </tbody>\n",
       "</table>\n",
       "<p>987294 rows × 12 columns</p>\n",
       "</div>"
      ],
      "text/plain": [
       "                qseqid          sseqid  pident  length  mismatch  gapopen  \\\n",
       "0       WBGene00023521  WBGene00020200  53.143     175        81        1   \n",
       "1       WBGene00023521  WBGene00021159  38.298      47        27        1   \n",
       "2       WBGene00023521  WBGene00020648  35.714      42        27        0   \n",
       "3       WBGene00023521  WBGene00013566  35.385      65        33        3   \n",
       "4       WBGene00023521  WBGene00007324  24.038     104        73        2   \n",
       "...                ...             ...     ...     ...       ...      ...   \n",
       "987289  WBGene00304771  WBGene00005089  21.212     165        93        6   \n",
       "987290  WBGene00304771  WBGene00002038  25.581      86        52        1   \n",
       "987291  WBGene00304771  WBGene00022408  23.864     176       102        7   \n",
       "987292  WBGene00304771  WBGene00007633  35.000      40        25        1   \n",
       "987293  WBGene00304771  WBGene00018180  27.059      85        56        4   \n",
       "\n",
       "        qstart  qend  sstart  send        evalue  bitscore  \n",
       "0            1   174       1   175  6.970000e-56     173.0  \n",
       "1           63   109     403   447  5.000000e-01      30.0  \n",
       "2           49    90       6    47  1.200000e+00      28.9  \n",
       "3           75   138       2    58  1.300000e+00      28.5  \n",
       "4           57   157      59   159  2.400000e+00      27.3  \n",
       "...        ...   ...     ...   ...           ...       ...  \n",
       "987289     106   259     156   294  5.000000e+00      27.7  \n",
       "987290     194   267     519   604  5.200000e+00      28.1  \n",
       "987291      50   213      54   209  5.600000e+00      27.7  \n",
       "987292      15    53      88   127  7.200000e+00      26.9  \n",
       "987293      47   130      42   121  9.000000e+00      26.9  \n",
       "\n",
       "[987294 rows x 12 columns]"
      ]
     },
     "execution_count": 4,
     "metadata": {},
     "output_type": "execute_result"
    }
   ],
   "source": [
    "elegans_vs_briggsae"
   ]
  },
  {
   "cell_type": "code",
   "execution_count": 10,
   "id": "fossil-essex",
   "metadata": {},
   "outputs": [
    {
     "data": {
      "text/plain": [
       "'WBGene00023521'"
      ]
     },
     "execution_count": 10,
     "metadata": {},
     "output_type": "execute_result"
    }
   ],
   "source": [
    "elegans_to_briggsae['WBGene00020200']"
   ]
  },
  {
   "cell_type": "code",
   "execution_count": 5,
   "id": "complimentary-brush",
   "metadata": {},
   "outputs": [
    {
     "data": {
      "text/plain": [
       "(20795, 19991)"
      ]
     },
     "execution_count": 5,
     "metadata": {},
     "output_type": "execute_result"
    }
   ],
   "source": [
    "all_b_query_genes=set()\n",
    "for i in elegans_vs_briggsae['qseqid']:all_b_query_genes.add(i)\n",
    "all_e_query_genes=set()\n",
    "for i in briggsae_vs_elegans['qseqid']:all_e_query_genes.add(i)\n",
    "    \n",
    "len(all_b_query_genes),len(all_e_query_genes)"
   ]
  },
  {
   "cell_type": "code",
   "execution_count": 6,
   "id": "nearby-newfoundland",
   "metadata": {},
   "outputs": [],
   "source": [
    "elegans_all_genes=pd.read_csv('/home/helena_hatrick/part_ii_project/canonical_genesets/elegans_one_of_each_gene.bed', \n",
    "                              header=None, sep='\\t')\n",
    "briggsae_all_genes=pd.read_csv('/home/helena_hatrick/part_ii_project/canonical_genesets/briggsae_one_of_each_gene.bed', \n",
    "                              header=None, sep='\\t')"
   ]
  },
  {
   "cell_type": "code",
   "execution_count": 7,
   "id": "confirmed-music",
   "metadata": {},
   "outputs": [
    {
     "data": {
      "text/plain": [
       "(34, 49)"
      ]
     },
     "execution_count": 7,
     "metadata": {},
     "output_type": "execute_result"
    }
   ],
   "source": [
    "briggsae_missing_genes=len(briggsae_all_genes)-len(all_b_query_genes)\n",
    "elegans_missing_genes=len(elegans_all_genes)-len(all_e_query_genes)\n",
    "briggsae_missing_genes, elegans_missing_genes\n",
    "# number of genes that I gave to blast in the fasta file that don't appear in the final output\n",
    "# I guess these must be species specific. No matches at all"
   ]
  },
  {
   "cell_type": "code",
   "execution_count": 8,
   "id": "demonstrated-manner",
   "metadata": {},
   "outputs": [],
   "source": [
    "target_worm='briggsae'\n",
    "query_worm='elegans'"
   ]
  },
  {
   "cell_type": "markdown",
   "id": "solved-albania",
   "metadata": {},
   "source": [
    "# Make dataframes of all the blast hits between just 1:1 ortholog pairs and get the ranking of each match (ie. was the 1:1 ortholog the top hit)"
   ]
  },
  {
   "cell_type": "code",
   "execution_count": 85,
   "id": "explicit-keeping",
   "metadata": {},
   "outputs": [],
   "source": [
    "# DON'T RUN AGAIN\n",
    "\n",
    "# make a dataframe of all the blast hits between 1:1 ortholog pairs, and get the ranking of the match\n",
    "# in some cases, there might be multiple \n",
    "\n",
    "if query_worm=='elegans':\n",
    "    df=briggsae_vs_elegans.iloc[:,[0,1,-2]].copy()\n",
    "    query_orthologs=list(elegans_genes_tc['name'])\n",
    "    query_to_target=elegans_to_briggsae\n",
    "    output_path='/home/helena_hatrick/part_ii_project/protein_sets/run_blastp/elegans_target_briggsae_query_evals_hitnums'\n",
    "\n",
    "if query_worm=='briggsae':\n",
    "    df=elegans_vs_briggsae.iloc[:,[0,1,-2]].copy()\n",
    "    query_orthologs=list(briggsae_genes_tc['name'])\n",
    "    query_to_target=briggsae_to_elegans\n",
    "    output_path='/home/helena_hatrick/part_ii_project/protein_sets/run_blastp/briggsae_target_elegans_query_evals_hitnums'\n",
    "\n",
    "target_gene_list=[]\n",
    "query_gene_list=[]\n",
    "e_values=[]\n",
    "target_hit_positions=[]\n",
    "    \n",
    "for gene in query_orthologs:\n",
    "    gene_df=df[df['qseqid']==gene].copy().reset_index(drop=True)\n",
    "    gene_and_ortholog_df=gene_df[gene_df['sseqid']==query_to_target[gene]]\n",
    "    for index, row in gene_and_ortholog_df.iterrows():\n",
    "        target_gene_list.append(row['sseqid'])\n",
    "        query_gene_list.append(row['qseqid'])\n",
    "        e_values.append(row['evalue'])\n",
    "        target_hit_positions.append(index)\n",
    "        \n",
    "output_df=pd.DataFrame({'query_gene':query_gene_list,'target_gene':target_gene_list,\n",
    "                        'e_value':e_values,'target_hit_position':target_hit_positions})\n",
    "\n",
    "output_df.to_csv(output_path,sep='\\t',index=None)"
   ]
  },
  {
   "cell_type": "code",
   "execution_count": 6,
   "id": "latter-departure",
   "metadata": {},
   "outputs": [],
   "source": [
    "# read in the output from the above cell\n",
    "\n",
    "briggsae_query_orthologs=pd.read_csv('/home/helena_hatrick/part_ii_project/protein_sets/run_blastp/briggsae_target_elegans_query_evals_hitnums',\n",
    "                                    sep='\\t')\n",
    "elegans_query_orthologs=pd.read_csv('/home/helena_hatrick/part_ii_project/protein_sets/run_blastp/elegans_target_briggsae_query_evals_hitnums',\n",
    "                                   sep='\\t')\n",
    "briggsae_query_orthologs.columns=['query_gene','target_gene','e_value','target_hit_position']\n",
    "elegans_query_orthologs.columns=['query_gene','target_gene','e_value','target_hit_position']"
   ]
  },
  {
   "cell_type": "code",
   "execution_count": 7,
   "id": "saving-helicopter",
   "metadata": {},
   "outputs": [
    {
     "data": {
      "text/plain": [
       "(12388, 12425)"
      ]
     },
     "execution_count": 7,
     "metadata": {},
     "output_type": "execute_result"
    }
   ],
   "source": [
    "len(briggsae_query_orthologs),len(elegans_query_orthologs)"
   ]
  },
  {
   "cell_type": "markdown",
   "id": "legendary-vessel",
   "metadata": {},
   "source": [
    "### Comparing genes in blast output vs in blast input - what genes are missing?"
   ]
  },
  {
   "cell_type": "code",
   "execution_count": 8,
   "id": "accredited-clock",
   "metadata": {},
   "outputs": [],
   "source": [
    "bed_12_columns=['chrom','chromStart','chromEnd','name','score','strand','thickStart','thickEnd','itemRgb',\n",
    "        'blockCount', 'blockSizes', 'blockStart']\n",
    "\n",
    "elegans_genes_tc=pd.read_csv('/home/helena_hatrick/part_ii_project/canonical_genesets/elegans_to_compare.bed', \n",
    "                             sep='\\t', names=bed_12_columns)\n",
    "briggsae_genes_tc=pd.read_csv('/home/helena_hatrick/part_ii_project/canonical_genesets/briggsae_to_compare.bed', \n",
    "                              sep='\\t', names=bed_12_columns)"
   ]
  },
  {
   "cell_type": "code",
   "execution_count": 47,
   "id": "portable-empire",
   "metadata": {},
   "outputs": [
    {
     "data": {
      "text/plain": [
       "(11814, 11814)"
      ]
     },
     "execution_count": 47,
     "metadata": {},
     "output_type": "execute_result"
    }
   ],
   "source": [
    "# these are all the orthologs that I gave to blast\n",
    "\n",
    "len(elegans_genes_tc),len(briggsae_genes_tc)"
   ]
  },
  {
   "cell_type": "code",
   "execution_count": 9,
   "id": "efficient-comparative",
   "metadata": {},
   "outputs": [],
   "source": [
    "briggsae_query_genes=set()\n",
    "for i in list(briggsae_query_orthologs['query_gene']):briggsae_query_genes.add(i)\n",
    "    \n",
    "elegans_query_genes=set()\n",
    "for i in list(elegans_query_orthologs['query_gene']):elegans_query_genes.add(i)"
   ]
  },
  {
   "cell_type": "code",
   "execution_count": 10,
   "id": "opponent-network",
   "metadata": {},
   "outputs": [
    {
     "data": {
      "text/plain": [
       "(11782, 11778)"
      ]
     },
     "execution_count": 10,
     "metadata": {},
     "output_type": "execute_result"
    }
   ],
   "source": [
    "len(briggsae_query_genes),len(elegans_query_genes)"
   ]
  },
  {
   "cell_type": "code",
   "execution_count": 11,
   "id": "increasing-purchase",
   "metadata": {},
   "outputs": [],
   "source": [
    "b_absent_query_genes=set()\n",
    "\n",
    "for gene in briggsae_genes_tc['name']:\n",
    "    if gene not in briggsae_query_genes:\n",
    "        b_absent_query_genes.add(gene)\n",
    "        \n",
    "e_absent_query_genes=set()\n",
    "\n",
    "for gene in elegans_genes_tc['name']:\n",
    "    if gene not in elegans_query_genes:\n",
    "        e_absent_query_genes.add(gene)"
   ]
  },
  {
   "cell_type": "code",
   "execution_count": 12,
   "id": "positive-russia",
   "metadata": {},
   "outputs": [
    {
     "data": {
      "text/plain": [
       "(32, 36)"
      ]
     },
     "execution_count": 12,
     "metadata": {},
     "output_type": "execute_result"
    }
   ],
   "source": [
    "len(b_absent_query_genes), len(e_absent_query_genes)"
   ]
  },
  {
   "cell_type": "code",
   "execution_count": 13,
   "id": "fuzzy-tennessee",
   "metadata": {},
   "outputs": [
    {
     "name": "stdout",
     "output_type": "stream",
     "text": [
      "no\n",
      "no\n"
     ]
    }
   ],
   "source": [
    "for gene in b_absent_query_genes:\n",
    "    if briggsae_to_elegans[gene] not in e_absent_query_genes:print('no')"
   ]
  },
  {
   "cell_type": "code",
   "execution_count": 14,
   "id": "fourth-child",
   "metadata": {},
   "outputs": [
    {
     "name": "stdout",
     "output_type": "stream",
     "text": [
      "no\n",
      "no\n",
      "no\n",
      "no\n",
      "no\n",
      "no\n"
     ]
    }
   ],
   "source": [
    "for gene in e_absent_query_genes:\n",
    "    if elegans_to_briggsae[gene] not in b_absent_query_genes:print('no')"
   ]
  },
  {
   "cell_type": "markdown",
   "id": "stunning-documentary",
   "metadata": {},
   "source": [
    "See a lot of overlap between the genes missing from the elegans analysis and briggsae analysis. The genes don't have a hit in the other sequence."
   ]
  },
  {
   "cell_type": "markdown",
   "id": "dense-might",
   "metadata": {},
   "source": [
    "# Get just the first row where the query gene was matched with its ortholog"
   ]
  },
  {
   "cell_type": "markdown",
   "id": "optical-convention",
   "metadata": {},
   "source": [
    "The reason why there are more rows in the ortholog pair matches df above is because often the query gene gets multiple local matches with its ortholog."
   ]
  },
  {
   "cell_type": "code",
   "execution_count": 16,
   "id": "eleven-environment",
   "metadata": {},
   "outputs": [],
   "source": [
    "e_q_genes=list(elegans_query_genes)\n",
    "first_match_indices=[]\n",
    "\n",
    "for i in e_q_genes:\n",
    "    sub_df=elegans_query_orthologs[elegans_query_orthologs['query_gene']==i].copy().reset_index()\n",
    "    first_match_indices.append(sub_df['index'][0])\n",
    "\n",
    "e_q_first_ortholog_hit=elegans_query_orthologs.iloc[first_match_indices,:].copy()"
   ]
  },
  {
   "cell_type": "code",
   "execution_count": 17,
   "id": "talented-stable",
   "metadata": {},
   "outputs": [],
   "source": [
    "b_q_genes=list(briggsae_query_genes)\n",
    "first_match_indices=[]\n",
    "\n",
    "for i in b_q_genes:\n",
    "    sub_df=briggsae_query_orthologs[briggsae_query_orthologs['query_gene']==i].copy().reset_index()\n",
    "    first_match_indices.append(sub_df['index'][0])\n",
    "\n",
    "b_q_first_ortholog_hit=briggsae_query_orthologs.iloc[first_match_indices,:].copy()"
   ]
  },
  {
   "cell_type": "markdown",
   "id": "coordinated-compensation",
   "metadata": {},
   "source": [
    "# Take only those rows where the ortholog was the top hit, not a secondary hit"
   ]
  },
  {
   "cell_type": "code",
   "execution_count": 19,
   "id": "familiar-johnston",
   "metadata": {},
   "outputs": [],
   "source": [
    "e_q_ortholog_best_hit=e_q_first_ortholog_hit[e_q_first_ortholog_hit['target_hit_position']==0].copy()\n",
    "e_q_ortholog_best_hit=e_q_ortholog_best_hit.reset_index(drop=True).drop('target_hit_position',axis=1)"
   ]
  },
  {
   "cell_type": "code",
   "execution_count": 20,
   "id": "canadian-dubai",
   "metadata": {},
   "outputs": [],
   "source": [
    "b_q_ortholog_best_hit=b_q_first_ortholog_hit[b_q_first_ortholog_hit['target_hit_position']==0].copy()\n",
    "b_q_ortholog_best_hit=b_q_ortholog_best_hit.reset_index(drop=True).drop('target_hit_position',axis=1)"
   ]
  },
  {
   "cell_type": "code",
   "execution_count": 21,
   "id": "outdoor-manufacturer",
   "metadata": {},
   "outputs": [
    {
     "data": {
      "text/html": [
       "<div>\n",
       "<style scoped>\n",
       "    .dataframe tbody tr th:only-of-type {\n",
       "        vertical-align: middle;\n",
       "    }\n",
       "\n",
       "    .dataframe tbody tr th {\n",
       "        vertical-align: top;\n",
       "    }\n",
       "\n",
       "    .dataframe thead th {\n",
       "        text-align: right;\n",
       "    }\n",
       "</style>\n",
       "<table border=\"1\" class=\"dataframe\">\n",
       "  <thead>\n",
       "    <tr style=\"text-align: right;\">\n",
       "      <th></th>\n",
       "      <th>query_gene</th>\n",
       "      <th>target_gene</th>\n",
       "      <th>e_value</th>\n",
       "    </tr>\n",
       "  </thead>\n",
       "  <tbody>\n",
       "    <tr>\n",
       "      <th>0</th>\n",
       "      <td>WBGene00012576</td>\n",
       "      <td>WBGene00270345</td>\n",
       "      <td>0.000000e+00</td>\n",
       "    </tr>\n",
       "    <tr>\n",
       "      <th>1</th>\n",
       "      <td>WBGene00018027</td>\n",
       "      <td>WBGene00034838</td>\n",
       "      <td>5.080000e-22</td>\n",
       "    </tr>\n",
       "    <tr>\n",
       "      <th>2</th>\n",
       "      <td>WBGene00000281</td>\n",
       "      <td>WBGene00036319</td>\n",
       "      <td>0.000000e+00</td>\n",
       "    </tr>\n",
       "    <tr>\n",
       "      <th>3</th>\n",
       "      <td>WBGene00022051</td>\n",
       "      <td>WBGene00035537</td>\n",
       "      <td>0.000000e+00</td>\n",
       "    </tr>\n",
       "    <tr>\n",
       "      <th>4</th>\n",
       "      <td>WBGene00004355</td>\n",
       "      <td>WBGene00026109</td>\n",
       "      <td>0.000000e+00</td>\n",
       "    </tr>\n",
       "    <tr>\n",
       "      <th>...</th>\n",
       "      <td>...</td>\n",
       "      <td>...</td>\n",
       "      <td>...</td>\n",
       "    </tr>\n",
       "    <tr>\n",
       "      <th>11547</th>\n",
       "      <td>WBGene00019399</td>\n",
       "      <td>WBGene00033527</td>\n",
       "      <td>1.120000e-131</td>\n",
       "    </tr>\n",
       "    <tr>\n",
       "      <th>11548</th>\n",
       "      <td>WBGene00017513</td>\n",
       "      <td>WBGene00041256</td>\n",
       "      <td>3.470000e-94</td>\n",
       "    </tr>\n",
       "    <tr>\n",
       "      <th>11549</th>\n",
       "      <td>WBGene00017144</td>\n",
       "      <td>WBGene00025447</td>\n",
       "      <td>0.000000e+00</td>\n",
       "    </tr>\n",
       "    <tr>\n",
       "      <th>11550</th>\n",
       "      <td>WBGene00016699</td>\n",
       "      <td>WBGene00037230</td>\n",
       "      <td>0.000000e+00</td>\n",
       "    </tr>\n",
       "    <tr>\n",
       "      <th>11551</th>\n",
       "      <td>WBGene00001241</td>\n",
       "      <td>WBGene00028195</td>\n",
       "      <td>0.000000e+00</td>\n",
       "    </tr>\n",
       "  </tbody>\n",
       "</table>\n",
       "<p>11552 rows × 3 columns</p>\n",
       "</div>"
      ],
      "text/plain": [
       "           query_gene     target_gene        e_value\n",
       "0      WBGene00012576  WBGene00270345   0.000000e+00\n",
       "1      WBGene00018027  WBGene00034838   5.080000e-22\n",
       "2      WBGene00000281  WBGene00036319   0.000000e+00\n",
       "3      WBGene00022051  WBGene00035537   0.000000e+00\n",
       "4      WBGene00004355  WBGene00026109   0.000000e+00\n",
       "...               ...             ...            ...\n",
       "11547  WBGene00019399  WBGene00033527  1.120000e-131\n",
       "11548  WBGene00017513  WBGene00041256   3.470000e-94\n",
       "11549  WBGene00017144  WBGene00025447   0.000000e+00\n",
       "11550  WBGene00016699  WBGene00037230   0.000000e+00\n",
       "11551  WBGene00001241  WBGene00028195   0.000000e+00\n",
       "\n",
       "[11552 rows x 3 columns]"
      ]
     },
     "execution_count": 21,
     "metadata": {},
     "output_type": "execute_result"
    }
   ],
   "source": [
    "e_q_ortholog_best_hit"
   ]
  },
  {
   "cell_type": "code",
   "execution_count": 22,
   "id": "chubby-vampire",
   "metadata": {},
   "outputs": [
    {
     "data": {
      "text/html": [
       "<div>\n",
       "<style scoped>\n",
       "    .dataframe tbody tr th:only-of-type {\n",
       "        vertical-align: middle;\n",
       "    }\n",
       "\n",
       "    .dataframe tbody tr th {\n",
       "        vertical-align: top;\n",
       "    }\n",
       "\n",
       "    .dataframe thead th {\n",
       "        text-align: right;\n",
       "    }\n",
       "</style>\n",
       "<table border=\"1\" class=\"dataframe\">\n",
       "  <thead>\n",
       "    <tr style=\"text-align: right;\">\n",
       "      <th></th>\n",
       "      <th>query_gene</th>\n",
       "      <th>target_gene</th>\n",
       "      <th>e_value</th>\n",
       "    </tr>\n",
       "  </thead>\n",
       "  <tbody>\n",
       "    <tr>\n",
       "      <th>0</th>\n",
       "      <td>WBGene00034901</td>\n",
       "      <td>WBGene00005717</td>\n",
       "      <td>0.000000e+00</td>\n",
       "    </tr>\n",
       "    <tr>\n",
       "      <th>1</th>\n",
       "      <td>WBGene00029635</td>\n",
       "      <td>WBGene00008808</td>\n",
       "      <td>0.000000e+00</td>\n",
       "    </tr>\n",
       "    <tr>\n",
       "      <th>2</th>\n",
       "      <td>WBGene00025224</td>\n",
       "      <td>WBGene00019320</td>\n",
       "      <td>1.450000e-99</td>\n",
       "    </tr>\n",
       "    <tr>\n",
       "      <th>3</th>\n",
       "      <td>WBGene00270397</td>\n",
       "      <td>WBGene00013678</td>\n",
       "      <td>0.000000e+00</td>\n",
       "    </tr>\n",
       "    <tr>\n",
       "      <th>4</th>\n",
       "      <td>WBGene00035625</td>\n",
       "      <td>WBGene00012962</td>\n",
       "      <td>0.000000e+00</td>\n",
       "    </tr>\n",
       "    <tr>\n",
       "      <th>...</th>\n",
       "      <td>...</td>\n",
       "      <td>...</td>\n",
       "      <td>...</td>\n",
       "    </tr>\n",
       "    <tr>\n",
       "      <th>11579</th>\n",
       "      <td>WBGene00030178</td>\n",
       "      <td>WBGene00011225</td>\n",
       "      <td>0.000000e+00</td>\n",
       "    </tr>\n",
       "    <tr>\n",
       "      <th>11580</th>\n",
       "      <td>WBGene00039007</td>\n",
       "      <td>WBGene00016289</td>\n",
       "      <td>0.000000e+00</td>\n",
       "    </tr>\n",
       "    <tr>\n",
       "      <th>11581</th>\n",
       "      <td>WBGene00038091</td>\n",
       "      <td>WBGene00005027</td>\n",
       "      <td>9.970000e-129</td>\n",
       "    </tr>\n",
       "    <tr>\n",
       "      <th>11582</th>\n",
       "      <td>WBGene00041848</td>\n",
       "      <td>WBGene00001179</td>\n",
       "      <td>0.000000e+00</td>\n",
       "    </tr>\n",
       "    <tr>\n",
       "      <th>11583</th>\n",
       "      <td>WBGene00033437</td>\n",
       "      <td>WBGene00000890</td>\n",
       "      <td>0.000000e+00</td>\n",
       "    </tr>\n",
       "  </tbody>\n",
       "</table>\n",
       "<p>11584 rows × 3 columns</p>\n",
       "</div>"
      ],
      "text/plain": [
       "           query_gene     target_gene        e_value\n",
       "0      WBGene00034901  WBGene00005717   0.000000e+00\n",
       "1      WBGene00029635  WBGene00008808   0.000000e+00\n",
       "2      WBGene00025224  WBGene00019320   1.450000e-99\n",
       "3      WBGene00270397  WBGene00013678   0.000000e+00\n",
       "4      WBGene00035625  WBGene00012962   0.000000e+00\n",
       "...               ...             ...            ...\n",
       "11579  WBGene00030178  WBGene00011225   0.000000e+00\n",
       "11580  WBGene00039007  WBGene00016289   0.000000e+00\n",
       "11581  WBGene00038091  WBGene00005027  9.970000e-129\n",
       "11582  WBGene00041848  WBGene00001179   0.000000e+00\n",
       "11583  WBGene00033437  WBGene00000890   0.000000e+00\n",
       "\n",
       "[11584 rows x 3 columns]"
      ]
     },
     "execution_count": 22,
     "metadata": {},
     "output_type": "execute_result"
    }
   ],
   "source": [
    "b_q_ortholog_best_hit"
   ]
  },
  {
   "cell_type": "markdown",
   "id": "minor-repository",
   "metadata": {},
   "source": [
    "### Cases where the ortholog was a hit but not the top hit"
   ]
  },
  {
   "cell_type": "code",
   "execution_count": 31,
   "id": "hydraulic-medline",
   "metadata": {},
   "outputs": [
    {
     "data": {
      "text/plain": [
       "226"
      ]
     },
     "execution_count": 31,
     "metadata": {},
     "output_type": "execute_result"
    }
   ],
   "source": [
    "len(e_q_first_ortholog_hit[e_q_first_ortholog_hit['target_hit_position']>0])"
   ]
  },
  {
   "cell_type": "code",
   "execution_count": 32,
   "id": "positive-development",
   "metadata": {},
   "outputs": [
    {
     "data": {
      "text/plain": [
       "198"
      ]
     },
     "execution_count": 32,
     "metadata": {},
     "output_type": "execute_result"
    }
   ],
   "source": [
    "len(b_q_first_ortholog_hit[b_q_first_ortholog_hit['target_hit_position']>0])"
   ]
  },
  {
   "cell_type": "markdown",
   "id": "private-version",
   "metadata": {},
   "source": [
    "Here are cases where the ortholog is a hit, but not the top hit."
   ]
  },
  {
   "cell_type": "code",
   "execution_count": 178,
   "id": "ecological-haven",
   "metadata": {},
   "outputs": [
    {
     "data": {
      "text/html": [
       "<div>\n",
       "<style scoped>\n",
       "    .dataframe tbody tr th:only-of-type {\n",
       "        vertical-align: middle;\n",
       "    }\n",
       "\n",
       "    .dataframe tbody tr th {\n",
       "        vertical-align: top;\n",
       "    }\n",
       "\n",
       "    .dataframe thead th {\n",
       "        text-align: right;\n",
       "    }\n",
       "</style>\n",
       "<table border=\"1\" class=\"dataframe\">\n",
       "  <thead>\n",
       "    <tr style=\"text-align: right;\">\n",
       "      <th></th>\n",
       "      <th>query_gene</th>\n",
       "      <th>target_gene</th>\n",
       "      <th>e_value</th>\n",
       "      <th>target_hit_position</th>\n",
       "    </tr>\n",
       "  </thead>\n",
       "  <tbody>\n",
       "    <tr>\n",
       "      <th>8314</th>\n",
       "      <td>WBGene00024098</td>\n",
       "      <td>WBGene00268213</td>\n",
       "      <td>1.670000e-19</td>\n",
       "      <td>9</td>\n",
       "    </tr>\n",
       "    <tr>\n",
       "      <th>11981</th>\n",
       "      <td>WBGene00041131</td>\n",
       "      <td>WBGene00008516</td>\n",
       "      <td>7.380000e-124</td>\n",
       "      <td>1</td>\n",
       "    </tr>\n",
       "    <tr>\n",
       "      <th>133</th>\n",
       "      <td>WBGene00029034</td>\n",
       "      <td>WBGene00001773</td>\n",
       "      <td>3.510000e-108</td>\n",
       "      <td>2</td>\n",
       "    </tr>\n",
       "    <tr>\n",
       "      <th>8284</th>\n",
       "      <td>WBGene00031862</td>\n",
       "      <td>WBGene00020183</td>\n",
       "      <td>1.760000e-41</td>\n",
       "      <td>2</td>\n",
       "    </tr>\n",
       "    <tr>\n",
       "      <th>12255</th>\n",
       "      <td>WBGene00036087</td>\n",
       "      <td>WBGene00010011</td>\n",
       "      <td>2.050000e-144</td>\n",
       "      <td>1</td>\n",
       "    </tr>\n",
       "    <tr>\n",
       "      <th>...</th>\n",
       "      <td>...</td>\n",
       "      <td>...</td>\n",
       "      <td>...</td>\n",
       "      <td>...</td>\n",
       "    </tr>\n",
       "    <tr>\n",
       "      <th>4917</th>\n",
       "      <td>WBGene00040617</td>\n",
       "      <td>WBGene00015641</td>\n",
       "      <td>9.420000e-21</td>\n",
       "      <td>4</td>\n",
       "    </tr>\n",
       "    <tr>\n",
       "      <th>4036</th>\n",
       "      <td>WBGene00035857</td>\n",
       "      <td>WBGene00021753</td>\n",
       "      <td>2.880000e-55</td>\n",
       "      <td>1</td>\n",
       "    </tr>\n",
       "    <tr>\n",
       "      <th>8796</th>\n",
       "      <td>WBGene00038593</td>\n",
       "      <td>WBGene00006231</td>\n",
       "      <td>1.880000e-154</td>\n",
       "      <td>2</td>\n",
       "    </tr>\n",
       "    <tr>\n",
       "      <th>11568</th>\n",
       "      <td>WBGene00025094</td>\n",
       "      <td>WBGene00007648</td>\n",
       "      <td>1.940000e-18</td>\n",
       "      <td>1</td>\n",
       "    </tr>\n",
       "    <tr>\n",
       "      <th>9012</th>\n",
       "      <td>WBGene00038413</td>\n",
       "      <td>WBGene00006146</td>\n",
       "      <td>8.330000e-88</td>\n",
       "      <td>2</td>\n",
       "    </tr>\n",
       "  </tbody>\n",
       "</table>\n",
       "<p>198 rows × 4 columns</p>\n",
       "</div>"
      ],
      "text/plain": [
       "           query_gene     target_gene        e_value  target_hit_position\n",
       "8314   WBGene00024098  WBGene00268213   1.670000e-19                    9\n",
       "11981  WBGene00041131  WBGene00008516  7.380000e-124                    1\n",
       "133    WBGene00029034  WBGene00001773  3.510000e-108                    2\n",
       "8284   WBGene00031862  WBGene00020183   1.760000e-41                    2\n",
       "12255  WBGene00036087  WBGene00010011  2.050000e-144                    1\n",
       "...               ...             ...            ...                  ...\n",
       "4917   WBGene00040617  WBGene00015641   9.420000e-21                    4\n",
       "4036   WBGene00035857  WBGene00021753   2.880000e-55                    1\n",
       "8796   WBGene00038593  WBGene00006231  1.880000e-154                    2\n",
       "11568  WBGene00025094  WBGene00007648   1.940000e-18                    1\n",
       "9012   WBGene00038413  WBGene00006146   8.330000e-88                    2\n",
       "\n",
       "[198 rows x 4 columns]"
      ]
     },
     "execution_count": 178,
     "metadata": {},
     "output_type": "execute_result"
    }
   ],
   "source": [
    "b_q_first_ortholog_hit[b_q_first_ortholog_hit['target_hit_position']>0]"
   ]
  },
  {
   "cell_type": "markdown",
   "id": "designed-wound",
   "metadata": {},
   "source": [
    "For elegans as query, I have 36 cases where briggsae ortholog was not a hit at all, and 226 cases where the briggsae ortholog was not the top hit (see later)\n",
    "\n",
    "For briggsae as query, I have 32 cases where the elegans ortholog was not a hit at all, and 198 cases where the elegans ortholog was not the top hit.\n",
    "\n",
    "Interestingly, some of the ortholog pairs that are not a top hit aren't annotated as orthologs on the wormbase website, but are present in the ortholog file downloaded from wormmart that I used to get my orthologs. To do with looking at %id with BLAST, doesn't always tell you genuine ortholog relationships. The wormmart stuff looks at evolutionary origins, can be trusted more than my blast analysis. BUT it's too difficult to use the genes that don't come up as top hits, so I'll just ignroe them. Could be a signal of duplications or something.\n",
    "\n",
    "So I will discard all those ortholog pairs that are not reciprocal best hits from my blast analysis."
   ]
  },
  {
   "cell_type": "markdown",
   "id": "isolated-german",
   "metadata": {},
   "source": [
    "# Get the reciprocal best hits (RBHs)"
   ]
  },
  {
   "cell_type": "code",
   "execution_count": 34,
   "id": "necessary-effect",
   "metadata": {},
   "outputs": [
    {
     "data": {
      "text/html": [
       "<div>\n",
       "<style scoped>\n",
       "    .dataframe tbody tr th:only-of-type {\n",
       "        vertical-align: middle;\n",
       "    }\n",
       "\n",
       "    .dataframe tbody tr th {\n",
       "        vertical-align: top;\n",
       "    }\n",
       "\n",
       "    .dataframe thead th {\n",
       "        text-align: right;\n",
       "    }\n",
       "</style>\n",
       "<table border=\"1\" class=\"dataframe\">\n",
       "  <thead>\n",
       "    <tr style=\"text-align: right;\">\n",
       "      <th></th>\n",
       "      <th>query_gene</th>\n",
       "      <th>target_gene</th>\n",
       "      <th>e_value</th>\n",
       "    </tr>\n",
       "  </thead>\n",
       "  <tbody>\n",
       "    <tr>\n",
       "      <th>0</th>\n",
       "      <td>WBGene00034901</td>\n",
       "      <td>WBGene00005717</td>\n",
       "      <td>0.000000e+00</td>\n",
       "    </tr>\n",
       "    <tr>\n",
       "      <th>1</th>\n",
       "      <td>WBGene00029635</td>\n",
       "      <td>WBGene00008808</td>\n",
       "      <td>0.000000e+00</td>\n",
       "    </tr>\n",
       "    <tr>\n",
       "      <th>2</th>\n",
       "      <td>WBGene00025224</td>\n",
       "      <td>WBGene00019320</td>\n",
       "      <td>1.450000e-99</td>\n",
       "    </tr>\n",
       "    <tr>\n",
       "      <th>3</th>\n",
       "      <td>WBGene00270397</td>\n",
       "      <td>WBGene00013678</td>\n",
       "      <td>0.000000e+00</td>\n",
       "    </tr>\n",
       "    <tr>\n",
       "      <th>4</th>\n",
       "      <td>WBGene00035625</td>\n",
       "      <td>WBGene00012962</td>\n",
       "      <td>0.000000e+00</td>\n",
       "    </tr>\n",
       "    <tr>\n",
       "      <th>...</th>\n",
       "      <td>...</td>\n",
       "      <td>...</td>\n",
       "      <td>...</td>\n",
       "    </tr>\n",
       "    <tr>\n",
       "      <th>11579</th>\n",
       "      <td>WBGene00030178</td>\n",
       "      <td>WBGene00011225</td>\n",
       "      <td>0.000000e+00</td>\n",
       "    </tr>\n",
       "    <tr>\n",
       "      <th>11580</th>\n",
       "      <td>WBGene00039007</td>\n",
       "      <td>WBGene00016289</td>\n",
       "      <td>0.000000e+00</td>\n",
       "    </tr>\n",
       "    <tr>\n",
       "      <th>11581</th>\n",
       "      <td>WBGene00038091</td>\n",
       "      <td>WBGene00005027</td>\n",
       "      <td>9.970000e-129</td>\n",
       "    </tr>\n",
       "    <tr>\n",
       "      <th>11582</th>\n",
       "      <td>WBGene00041848</td>\n",
       "      <td>WBGene00001179</td>\n",
       "      <td>0.000000e+00</td>\n",
       "    </tr>\n",
       "    <tr>\n",
       "      <th>11583</th>\n",
       "      <td>WBGene00033437</td>\n",
       "      <td>WBGene00000890</td>\n",
       "      <td>0.000000e+00</td>\n",
       "    </tr>\n",
       "  </tbody>\n",
       "</table>\n",
       "<p>11584 rows × 3 columns</p>\n",
       "</div>"
      ],
      "text/plain": [
       "           query_gene     target_gene        e_value\n",
       "0      WBGene00034901  WBGene00005717   0.000000e+00\n",
       "1      WBGene00029635  WBGene00008808   0.000000e+00\n",
       "2      WBGene00025224  WBGene00019320   1.450000e-99\n",
       "3      WBGene00270397  WBGene00013678   0.000000e+00\n",
       "4      WBGene00035625  WBGene00012962   0.000000e+00\n",
       "...               ...             ...            ...\n",
       "11579  WBGene00030178  WBGene00011225   0.000000e+00\n",
       "11580  WBGene00039007  WBGene00016289   0.000000e+00\n",
       "11581  WBGene00038091  WBGene00005027  9.970000e-129\n",
       "11582  WBGene00041848  WBGene00001179   0.000000e+00\n",
       "11583  WBGene00033437  WBGene00000890   0.000000e+00\n",
       "\n",
       "[11584 rows x 3 columns]"
      ]
     },
     "execution_count": 34,
     "metadata": {},
     "output_type": "execute_result"
    }
   ],
   "source": [
    "b_q_ortholog_best_hit \n",
    "# all the cases where the elegans (target) ortholog was the best hit for the briggsae (query) gene"
   ]
  },
  {
   "cell_type": "code",
   "execution_count": 35,
   "id": "mobile-straight",
   "metadata": {},
   "outputs": [
    {
     "data": {
      "text/html": [
       "<div>\n",
       "<style scoped>\n",
       "    .dataframe tbody tr th:only-of-type {\n",
       "        vertical-align: middle;\n",
       "    }\n",
       "\n",
       "    .dataframe tbody tr th {\n",
       "        vertical-align: top;\n",
       "    }\n",
       "\n",
       "    .dataframe thead th {\n",
       "        text-align: right;\n",
       "    }\n",
       "</style>\n",
       "<table border=\"1\" class=\"dataframe\">\n",
       "  <thead>\n",
       "    <tr style=\"text-align: right;\">\n",
       "      <th></th>\n",
       "      <th>query_gene</th>\n",
       "      <th>target_gene</th>\n",
       "      <th>e_value</th>\n",
       "    </tr>\n",
       "  </thead>\n",
       "  <tbody>\n",
       "    <tr>\n",
       "      <th>0</th>\n",
       "      <td>WBGene00012576</td>\n",
       "      <td>WBGene00270345</td>\n",
       "      <td>0.000000e+00</td>\n",
       "    </tr>\n",
       "    <tr>\n",
       "      <th>1</th>\n",
       "      <td>WBGene00018027</td>\n",
       "      <td>WBGene00034838</td>\n",
       "      <td>5.080000e-22</td>\n",
       "    </tr>\n",
       "    <tr>\n",
       "      <th>2</th>\n",
       "      <td>WBGene00000281</td>\n",
       "      <td>WBGene00036319</td>\n",
       "      <td>0.000000e+00</td>\n",
       "    </tr>\n",
       "    <tr>\n",
       "      <th>3</th>\n",
       "      <td>WBGene00022051</td>\n",
       "      <td>WBGene00035537</td>\n",
       "      <td>0.000000e+00</td>\n",
       "    </tr>\n",
       "    <tr>\n",
       "      <th>4</th>\n",
       "      <td>WBGene00004355</td>\n",
       "      <td>WBGene00026109</td>\n",
       "      <td>0.000000e+00</td>\n",
       "    </tr>\n",
       "    <tr>\n",
       "      <th>...</th>\n",
       "      <td>...</td>\n",
       "      <td>...</td>\n",
       "      <td>...</td>\n",
       "    </tr>\n",
       "    <tr>\n",
       "      <th>11547</th>\n",
       "      <td>WBGene00019399</td>\n",
       "      <td>WBGene00033527</td>\n",
       "      <td>1.120000e-131</td>\n",
       "    </tr>\n",
       "    <tr>\n",
       "      <th>11548</th>\n",
       "      <td>WBGene00017513</td>\n",
       "      <td>WBGene00041256</td>\n",
       "      <td>3.470000e-94</td>\n",
       "    </tr>\n",
       "    <tr>\n",
       "      <th>11549</th>\n",
       "      <td>WBGene00017144</td>\n",
       "      <td>WBGene00025447</td>\n",
       "      <td>0.000000e+00</td>\n",
       "    </tr>\n",
       "    <tr>\n",
       "      <th>11550</th>\n",
       "      <td>WBGene00016699</td>\n",
       "      <td>WBGene00037230</td>\n",
       "      <td>0.000000e+00</td>\n",
       "    </tr>\n",
       "    <tr>\n",
       "      <th>11551</th>\n",
       "      <td>WBGene00001241</td>\n",
       "      <td>WBGene00028195</td>\n",
       "      <td>0.000000e+00</td>\n",
       "    </tr>\n",
       "  </tbody>\n",
       "</table>\n",
       "<p>11552 rows × 3 columns</p>\n",
       "</div>"
      ],
      "text/plain": [
       "           query_gene     target_gene        e_value\n",
       "0      WBGene00012576  WBGene00270345   0.000000e+00\n",
       "1      WBGene00018027  WBGene00034838   5.080000e-22\n",
       "2      WBGene00000281  WBGene00036319   0.000000e+00\n",
       "3      WBGene00022051  WBGene00035537   0.000000e+00\n",
       "4      WBGene00004355  WBGene00026109   0.000000e+00\n",
       "...               ...             ...            ...\n",
       "11547  WBGene00019399  WBGene00033527  1.120000e-131\n",
       "11548  WBGene00017513  WBGene00041256   3.470000e-94\n",
       "11549  WBGene00017144  WBGene00025447   0.000000e+00\n",
       "11550  WBGene00016699  WBGene00037230   0.000000e+00\n",
       "11551  WBGene00001241  WBGene00028195   0.000000e+00\n",
       "\n",
       "[11552 rows x 3 columns]"
      ]
     },
     "execution_count": 35,
     "metadata": {},
     "output_type": "execute_result"
    }
   ],
   "source": [
    "e_q_ortholog_best_hit\n",
    "# all the cases where the briggsae (target) ortholog was the best hit for the elegans (query) gene"
   ]
  },
  {
   "cell_type": "markdown",
   "id": "illegal-copying",
   "metadata": {},
   "source": [
    "### RBHs from the persepctive of elegans as target, briggsae as query"
   ]
  },
  {
   "cell_type": "code",
   "execution_count": null,
   "id": "trying-tutorial",
   "metadata": {},
   "outputs": [],
   "source": [
    "# go through every row in b_q_ortholog_best_hit\n",
    "# take the briggsae query gene\n",
    "# take the elegans target gene\n",
    "# make a df where the elegans target gene is the query gene in e_q_ortholog_best_hit\n",
    "# see if the target gene is briggsae query gene from b_q_ortholog_best_hit\n",
    "# if so, take the row from b_q_ortholog_best_hit\n",
    "\n",
    "b_q_indices=[]\n",
    "for index, row in b_q_ortholog_best_hit.iterrows():\n",
    "    b_q_gene=row['query_gene']\n",
    "    e_t_gene=row['target_gene']\n",
    "    subdf=e_q_ortholog_best_hit[e_q_ortholog_best_hit['query_gene']==e_t_gene].copy().reset_index(drop=True)\n",
    "    if len(subdf)>0:\n",
    "        if subdf['target_gene'][0]==b_q_gene:\n",
    "            b_q_indices.append(index)"
   ]
  },
  {
   "cell_type": "code",
   "execution_count": null,
   "id": "olive-texture",
   "metadata": {},
   "outputs": [],
   "source": [
    "len(b_q_indices)"
   ]
  },
  {
   "cell_type": "code",
   "execution_count": 40,
   "id": "integrated-found",
   "metadata": {},
   "outputs": [
    {
     "data": {
      "text/html": [
       "<div>\n",
       "<style scoped>\n",
       "    .dataframe tbody tr th:only-of-type {\n",
       "        vertical-align: middle;\n",
       "    }\n",
       "\n",
       "    .dataframe tbody tr th {\n",
       "        vertical-align: top;\n",
       "    }\n",
       "\n",
       "    .dataframe thead th {\n",
       "        text-align: right;\n",
       "    }\n",
       "</style>\n",
       "<table border=\"1\" class=\"dataframe\">\n",
       "  <thead>\n",
       "    <tr style=\"text-align: right;\">\n",
       "      <th></th>\n",
       "      <th>query_gene</th>\n",
       "      <th>target_gene</th>\n",
       "      <th>e_value</th>\n",
       "    </tr>\n",
       "  </thead>\n",
       "  <tbody>\n",
       "    <tr>\n",
       "      <th>0</th>\n",
       "      <td>WBGene00034901</td>\n",
       "      <td>WBGene00005717</td>\n",
       "      <td>0.000000e+00</td>\n",
       "    </tr>\n",
       "    <tr>\n",
       "      <th>1</th>\n",
       "      <td>WBGene00029635</td>\n",
       "      <td>WBGene00008808</td>\n",
       "      <td>0.000000e+00</td>\n",
       "    </tr>\n",
       "    <tr>\n",
       "      <th>2</th>\n",
       "      <td>WBGene00025224</td>\n",
       "      <td>WBGene00019320</td>\n",
       "      <td>1.450000e-99</td>\n",
       "    </tr>\n",
       "    <tr>\n",
       "      <th>3</th>\n",
       "      <td>WBGene00270397</td>\n",
       "      <td>WBGene00013678</td>\n",
       "      <td>0.000000e+00</td>\n",
       "    </tr>\n",
       "    <tr>\n",
       "      <th>4</th>\n",
       "      <td>WBGene00035625</td>\n",
       "      <td>WBGene00012962</td>\n",
       "      <td>0.000000e+00</td>\n",
       "    </tr>\n",
       "    <tr>\n",
       "      <th>...</th>\n",
       "      <td>...</td>\n",
       "      <td>...</td>\n",
       "      <td>...</td>\n",
       "    </tr>\n",
       "    <tr>\n",
       "      <th>11460</th>\n",
       "      <td>WBGene00030178</td>\n",
       "      <td>WBGene00011225</td>\n",
       "      <td>0.000000e+00</td>\n",
       "    </tr>\n",
       "    <tr>\n",
       "      <th>11461</th>\n",
       "      <td>WBGene00039007</td>\n",
       "      <td>WBGene00016289</td>\n",
       "      <td>0.000000e+00</td>\n",
       "    </tr>\n",
       "    <tr>\n",
       "      <th>11462</th>\n",
       "      <td>WBGene00038091</td>\n",
       "      <td>WBGene00005027</td>\n",
       "      <td>9.970000e-129</td>\n",
       "    </tr>\n",
       "    <tr>\n",
       "      <th>11463</th>\n",
       "      <td>WBGene00041848</td>\n",
       "      <td>WBGene00001179</td>\n",
       "      <td>0.000000e+00</td>\n",
       "    </tr>\n",
       "    <tr>\n",
       "      <th>11464</th>\n",
       "      <td>WBGene00033437</td>\n",
       "      <td>WBGene00000890</td>\n",
       "      <td>0.000000e+00</td>\n",
       "    </tr>\n",
       "  </tbody>\n",
       "</table>\n",
       "<p>11465 rows × 3 columns</p>\n",
       "</div>"
      ],
      "text/plain": [
       "           query_gene     target_gene        e_value\n",
       "0      WBGene00034901  WBGene00005717   0.000000e+00\n",
       "1      WBGene00029635  WBGene00008808   0.000000e+00\n",
       "2      WBGene00025224  WBGene00019320   1.450000e-99\n",
       "3      WBGene00270397  WBGene00013678   0.000000e+00\n",
       "4      WBGene00035625  WBGene00012962   0.000000e+00\n",
       "...               ...             ...            ...\n",
       "11460  WBGene00030178  WBGene00011225   0.000000e+00\n",
       "11461  WBGene00039007  WBGene00016289   0.000000e+00\n",
       "11462  WBGene00038091  WBGene00005027  9.970000e-129\n",
       "11463  WBGene00041848  WBGene00001179   0.000000e+00\n",
       "11464  WBGene00033437  WBGene00000890   0.000000e+00\n",
       "\n",
       "[11465 rows x 3 columns]"
      ]
     },
     "execution_count": 40,
     "metadata": {},
     "output_type": "execute_result"
    }
   ],
   "source": [
    "# rbh from the perspective of elegans as target, briggsae as query\n",
    "ortholog_rbh_et_bq=b_q_ortholog_best_hit.iloc[b_q_indices,:].copy().reset_index(drop=True)\n",
    "ortholog_rbh_et_bq"
   ]
  },
  {
   "cell_type": "code",
   "execution_count": 11,
   "id": "varying-lafayette",
   "metadata": {},
   "outputs": [
    {
     "data": {
      "text/plain": [
       "'WBGene00034901'"
      ]
     },
     "execution_count": 11,
     "metadata": {},
     "output_type": "execute_result"
    }
   ],
   "source": [
    "elegans_to_briggsae['WBGene00005717']"
   ]
  },
  {
   "cell_type": "code",
   "execution_count": 53,
   "id": "taken-affiliation",
   "metadata": {},
   "outputs": [],
   "source": [
    "# save it\n",
    "path='/home/helena_hatrick/part_ii_project/orthologs/121_ortholog_rbhs_bq_et'\n",
    "ortholog_rbh_et_bq.to_csv(path,sep='\\t',header=['query','target','e_value'],index=None)\n",
    "ortholog_rbh_et_bq=pd.read_csv(path,sep='\\t')"
   ]
  },
  {
   "cell_type": "code",
   "execution_count": 54,
   "id": "unusual-princess",
   "metadata": {},
   "outputs": [
    {
     "data": {
      "text/plain": [
       "['WBGene00011225',\n",
       " 'WBGene00016289',\n",
       " 'WBGene00005027',\n",
       " 'WBGene00001179',\n",
       " 'WBGene00000890']"
      ]
     },
     "execution_count": 54,
     "metadata": {},
     "output_type": "execute_result"
    }
   ],
   "source": [
    "# just to double check that the genes I'm getting are all the 1:1 orthologs\n",
    "\n",
    "ideal_targets=[]\n",
    "for gene in ortholog_rbh_et_bq['query']:ideal_targets.append(briggsae_to_elegans[gene])\n",
    "    \n",
    "ideal_targets[11460:11465]"
   ]
  },
  {
   "cell_type": "markdown",
   "id": "aggressive-resolution",
   "metadata": {},
   "source": [
    "### RBHs from the perspective of briggsae as target, elegans as query"
   ]
  },
  {
   "cell_type": "code",
   "execution_count": null,
   "id": "minimal-input",
   "metadata": {},
   "outputs": [],
   "source": [
    "#should give the same number of indices as b_q_indices, but the actual indices will be different:\n",
    "\n",
    "e_q_indices=[]\n",
    "for index, row in e_q_ortholog_best_hit.iterrows():\n",
    "    e_q_gene=row['query_gene']\n",
    "    b_t_gene=row['target_gene']\n",
    "    subdf=b_q_ortholog_best_hit[b_q_ortholog_best_hit['query_gene']==b_t_gene].copy().reset_index(drop=True)\n",
    "    if len(subdf)>0:\n",
    "        if subdf['target_gene'][0]==e_q_gene:\n",
    "            e_q_indices.append(index)"
   ]
  },
  {
   "cell_type": "code",
   "execution_count": 51,
   "id": "sized-american",
   "metadata": {},
   "outputs": [
    {
     "data": {
      "text/plain": [
       "11465"
      ]
     },
     "execution_count": 51,
     "metadata": {},
     "output_type": "execute_result"
    }
   ],
   "source": [
    "len(e_q_indices)"
   ]
  },
  {
   "cell_type": "code",
   "execution_count": 45,
   "id": "decimal-execution",
   "metadata": {},
   "outputs": [
    {
     "data": {
      "text/html": [
       "<div>\n",
       "<style scoped>\n",
       "    .dataframe tbody tr th:only-of-type {\n",
       "        vertical-align: middle;\n",
       "    }\n",
       "\n",
       "    .dataframe tbody tr th {\n",
       "        vertical-align: top;\n",
       "    }\n",
       "\n",
       "    .dataframe thead th {\n",
       "        text-align: right;\n",
       "    }\n",
       "</style>\n",
       "<table border=\"1\" class=\"dataframe\">\n",
       "  <thead>\n",
       "    <tr style=\"text-align: right;\">\n",
       "      <th></th>\n",
       "      <th>query_gene</th>\n",
       "      <th>target_gene</th>\n",
       "      <th>e_value</th>\n",
       "    </tr>\n",
       "  </thead>\n",
       "  <tbody>\n",
       "    <tr>\n",
       "      <th>0</th>\n",
       "      <td>WBGene00012576</td>\n",
       "      <td>WBGene00270345</td>\n",
       "      <td>0.000000e+00</td>\n",
       "    </tr>\n",
       "    <tr>\n",
       "      <th>1</th>\n",
       "      <td>WBGene00018027</td>\n",
       "      <td>WBGene00034838</td>\n",
       "      <td>5.080000e-22</td>\n",
       "    </tr>\n",
       "    <tr>\n",
       "      <th>2</th>\n",
       "      <td>WBGene00000281</td>\n",
       "      <td>WBGene00036319</td>\n",
       "      <td>0.000000e+00</td>\n",
       "    </tr>\n",
       "    <tr>\n",
       "      <th>3</th>\n",
       "      <td>WBGene00022051</td>\n",
       "      <td>WBGene00035537</td>\n",
       "      <td>0.000000e+00</td>\n",
       "    </tr>\n",
       "    <tr>\n",
       "      <th>4</th>\n",
       "      <td>WBGene00004355</td>\n",
       "      <td>WBGene00026109</td>\n",
       "      <td>0.000000e+00</td>\n",
       "    </tr>\n",
       "    <tr>\n",
       "      <th>...</th>\n",
       "      <td>...</td>\n",
       "      <td>...</td>\n",
       "      <td>...</td>\n",
       "    </tr>\n",
       "    <tr>\n",
       "      <th>11460</th>\n",
       "      <td>WBGene00019399</td>\n",
       "      <td>WBGene00033527</td>\n",
       "      <td>1.120000e-131</td>\n",
       "    </tr>\n",
       "    <tr>\n",
       "      <th>11461</th>\n",
       "      <td>WBGene00017513</td>\n",
       "      <td>WBGene00041256</td>\n",
       "      <td>3.470000e-94</td>\n",
       "    </tr>\n",
       "    <tr>\n",
       "      <th>11462</th>\n",
       "      <td>WBGene00017144</td>\n",
       "      <td>WBGene00025447</td>\n",
       "      <td>0.000000e+00</td>\n",
       "    </tr>\n",
       "    <tr>\n",
       "      <th>11463</th>\n",
       "      <td>WBGene00016699</td>\n",
       "      <td>WBGene00037230</td>\n",
       "      <td>0.000000e+00</td>\n",
       "    </tr>\n",
       "    <tr>\n",
       "      <th>11464</th>\n",
       "      <td>WBGene00001241</td>\n",
       "      <td>WBGene00028195</td>\n",
       "      <td>0.000000e+00</td>\n",
       "    </tr>\n",
       "  </tbody>\n",
       "</table>\n",
       "<p>11465 rows × 3 columns</p>\n",
       "</div>"
      ],
      "text/plain": [
       "           query_gene     target_gene        e_value\n",
       "0      WBGene00012576  WBGene00270345   0.000000e+00\n",
       "1      WBGene00018027  WBGene00034838   5.080000e-22\n",
       "2      WBGene00000281  WBGene00036319   0.000000e+00\n",
       "3      WBGene00022051  WBGene00035537   0.000000e+00\n",
       "4      WBGene00004355  WBGene00026109   0.000000e+00\n",
       "...               ...             ...            ...\n",
       "11460  WBGene00019399  WBGene00033527  1.120000e-131\n",
       "11461  WBGene00017513  WBGene00041256   3.470000e-94\n",
       "11462  WBGene00017144  WBGene00025447   0.000000e+00\n",
       "11463  WBGene00016699  WBGene00037230   0.000000e+00\n",
       "11464  WBGene00001241  WBGene00028195   0.000000e+00\n",
       "\n",
       "[11465 rows x 3 columns]"
      ]
     },
     "execution_count": 45,
     "metadata": {},
     "output_type": "execute_result"
    }
   ],
   "source": [
    "# rbh from the perspective of briggsae as target, elegans as query\n",
    "ortholog_rbh_bt_eq=e_q_ortholog_best_hit.iloc[e_q_indices,:].copy().reset_index(drop=True)\n",
    "ortholog_rbh_bt_eq"
   ]
  },
  {
   "cell_type": "code",
   "execution_count": 56,
   "id": "contemporary-tanzania",
   "metadata": {},
   "outputs": [],
   "source": [
    "# save it\n",
    "path='/home/helena_hatrick/part_ii_project/orthologs/121_ortholog_rbhs_eq_bt'\n",
    "ortholog_rbh_bt_eq.to_csv(path,sep='\\t',header=['query','target','e_value'],index=None)\n",
    "ortholog_rbh_bt_eq=pd.read_csv(path,sep='\\t')"
   ]
  },
  {
   "cell_type": "code",
   "execution_count": 58,
   "id": "driven-mauritius",
   "metadata": {},
   "outputs": [
    {
     "data": {
      "text/plain": [
       "['WBGene00033527',\n",
       " 'WBGene00041256',\n",
       " 'WBGene00025447',\n",
       " 'WBGene00037230',\n",
       " 'WBGene00028195']"
      ]
     },
     "execution_count": 58,
     "metadata": {},
     "output_type": "execute_result"
    }
   ],
   "source": [
    "# just to double check that the genes I'm getting are all the 1:1 orthologs\n",
    "\n",
    "ideal_targets=[]\n",
    "for gene in ortholog_rbh_bt_eq['query']:ideal_targets.append(elegans_to_briggsae[gene])\n",
    "    \n",
    "ideal_targets[11460:11465]"
   ]
  },
  {
   "cell_type": "markdown",
   "id": "catholic-palace",
   "metadata": {},
   "source": [
    "# That's the final product from this .ipynb"
   ]
  },
  {
   "cell_type": "markdown",
   "id": "framed-aerospace",
   "metadata": {},
   "source": [
    "The rest is just fiddling around"
   ]
  },
  {
   "cell_type": "markdown",
   "id": "undefined-nature",
   "metadata": {},
   "source": [
    "# Make a dataframe of all the top hits from the blastp output"
   ]
  },
  {
   "cell_type": "code",
   "execution_count": 86,
   "id": "secret-background",
   "metadata": {},
   "outputs": [],
   "source": [
    "# make a dataframe of all the highest hits from the blastp output\n",
    "\n",
    "query_gene_list=[]\n",
    "target_gene_list=[]\n",
    "e_values=[]\n",
    "\n",
    "if target_worm=='elegans':\n",
    "    df=elegans_vs_briggsae.iloc[:,[0,1,-2]].copy()\n",
    "    output_path='/home/helena_hatrick/part_ii_project/protein_sets/run_blastp/elegans_vs_briggsae_top_hits'\n",
    "\n",
    "if target_worm=='briggsae':\n",
    "    df=briggsae_vs_elegans.iloc[:,[0,1,-2]].copy()\n",
    "    output_path='/home/helena_hatrick/part_ii_project/protein_sets/run_blastp/briggsae_vs_elegans_top_hits'\n",
    "\n",
    "blast_query_genes=set()\n",
    "for i in list(df['qseqid']):blast_query_genes.add(i)\n",
    "    \n",
    "for gene in list(blast_query_genes):\n",
    "    gene_df=df[df['qseqid']==gene].copy().reset_index(drop=True)\n",
    "    query_gene_list.append(gene_df['qseqid'][0])\n",
    "    target_gene_list.append(gene_df['sseqid'][0])\n",
    "    e_values.append(gene_df['evalue'][0])\n",
    "        \n",
    "top_hits_df=pd.DataFrame({'query_gene':query_gene_list,'target_gene':target_gene_list,'e_value':e_values})\n",
    "top_hits_df.to_csv(output_path,sep='\\t',index=None)"
   ]
  },
  {
   "cell_type": "code",
   "execution_count": 77,
   "id": "advance-animation",
   "metadata": {},
   "outputs": [],
   "source": [
    "briggsae_query_top_hits=pd.read_csv('/home/helena_hatrick/part_ii_project/protein_sets/run_blastp/elegans_vs_briggsae_top_hits',\n",
    "           sep='\\t')\n",
    "elegans_query_top_hits=pd.read_csv('/home/helena_hatrick/part_ii_project/protein_sets/run_blastp/briggsae_vs_elegans_top_hits',\n",
    "           sep='\\t')"
   ]
  },
  {
   "cell_type": "markdown",
   "id": "choice-kitty",
   "metadata": {},
   "source": [
    "# How often is the ortholog pair not the top match"
   ]
  },
  {
   "cell_type": "code",
   "execution_count": 78,
   "id": "interim-michael",
   "metadata": {},
   "outputs": [
    {
     "data": {
      "text/html": [
       "<div>\n",
       "<style scoped>\n",
       "    .dataframe tbody tr th:only-of-type {\n",
       "        vertical-align: middle;\n",
       "    }\n",
       "\n",
       "    .dataframe tbody tr th {\n",
       "        vertical-align: top;\n",
       "    }\n",
       "\n",
       "    .dataframe thead th {\n",
       "        text-align: right;\n",
       "    }\n",
       "</style>\n",
       "<table border=\"1\" class=\"dataframe\">\n",
       "  <thead>\n",
       "    <tr style=\"text-align: right;\">\n",
       "      <th></th>\n",
       "      <th>target_gene</th>\n",
       "      <th>query_gene</th>\n",
       "      <th>e_value</th>\n",
       "    </tr>\n",
       "  </thead>\n",
       "  <tbody>\n",
       "    <tr>\n",
       "      <th>0</th>\n",
       "      <td>WBGene00008195</td>\n",
       "      <td>WBGene00023879</td>\n",
       "      <td>1.030000e-73</td>\n",
       "    </tr>\n",
       "    <tr>\n",
       "      <th>1</th>\n",
       "      <td>WBGene00019139</td>\n",
       "      <td>WBGene00036110</td>\n",
       "      <td>2.070000e-60</td>\n",
       "    </tr>\n",
       "    <tr>\n",
       "      <th>2</th>\n",
       "      <td>WBGene00016203</td>\n",
       "      <td>WBGene00033258</td>\n",
       "      <td>0.000000e+00</td>\n",
       "    </tr>\n",
       "    <tr>\n",
       "      <th>3</th>\n",
       "      <td>WBGene00018474</td>\n",
       "      <td>WBGene00033948</td>\n",
       "      <td>0.000000e+00</td>\n",
       "    </tr>\n",
       "    <tr>\n",
       "      <th>4</th>\n",
       "      <td>WBGene00015097</td>\n",
       "      <td>WBGene00025838</td>\n",
       "      <td>4.590000e-130</td>\n",
       "    </tr>\n",
       "    <tr>\n",
       "      <th>...</th>\n",
       "      <td>...</td>\n",
       "      <td>...</td>\n",
       "      <td>...</td>\n",
       "    </tr>\n",
       "    <tr>\n",
       "      <th>20790</th>\n",
       "      <td>WBGene00016178</td>\n",
       "      <td>WBGene00024828</td>\n",
       "      <td>2.000000e-03</td>\n",
       "    </tr>\n",
       "    <tr>\n",
       "      <th>20791</th>\n",
       "      <td>WBGene00045060</td>\n",
       "      <td>WBGene00035412</td>\n",
       "      <td>1.060000e-78</td>\n",
       "    </tr>\n",
       "    <tr>\n",
       "      <th>20792</th>\n",
       "      <td>WBGene00000546</td>\n",
       "      <td>WBGene00087933</td>\n",
       "      <td>3.400000e+00</td>\n",
       "    </tr>\n",
       "    <tr>\n",
       "      <th>20793</th>\n",
       "      <td>WBGene00018481</td>\n",
       "      <td>WBGene00024739</td>\n",
       "      <td>1.110000e-42</td>\n",
       "    </tr>\n",
       "    <tr>\n",
       "      <th>20794</th>\n",
       "      <td>WBGene00005618</td>\n",
       "      <td>WBGene00024428</td>\n",
       "      <td>6.990000e-102</td>\n",
       "    </tr>\n",
       "  </tbody>\n",
       "</table>\n",
       "<p>20795 rows × 3 columns</p>\n",
       "</div>"
      ],
      "text/plain": [
       "          target_gene      query_gene        e_value\n",
       "0      WBGene00008195  WBGene00023879   1.030000e-73\n",
       "1      WBGene00019139  WBGene00036110   2.070000e-60\n",
       "2      WBGene00016203  WBGene00033258   0.000000e+00\n",
       "3      WBGene00018474  WBGene00033948   0.000000e+00\n",
       "4      WBGene00015097  WBGene00025838  4.590000e-130\n",
       "...               ...             ...            ...\n",
       "20790  WBGene00016178  WBGene00024828   2.000000e-03\n",
       "20791  WBGene00045060  WBGene00035412   1.060000e-78\n",
       "20792  WBGene00000546  WBGene00087933   3.400000e+00\n",
       "20793  WBGene00018481  WBGene00024739   1.110000e-42\n",
       "20794  WBGene00005618  WBGene00024428  6.990000e-102\n",
       "\n",
       "[20795 rows x 3 columns]"
      ]
     },
     "execution_count": 78,
     "metadata": {},
     "output_type": "execute_result"
    }
   ],
   "source": [
    "briggsae_query_top_hits"
   ]
  },
  {
   "cell_type": "code",
   "execution_count": 82,
   "id": "embedded-collector",
   "metadata": {},
   "outputs": [
    {
     "data": {
      "text/plain": [
       "'WBGene00016203'"
      ]
     },
     "execution_count": 82,
     "metadata": {},
     "output_type": "execute_result"
    }
   ],
   "source": [
    "briggsae_to_elegans['WBGene00033258']"
   ]
  },
  {
   "cell_type": "code",
   "execution_count": 84,
   "id": "fifteen-burns",
   "metadata": {},
   "outputs": [],
   "source": [
    "# get the rows from the top_hits_df which have a pair of orthologs\n",
    "\n",
    "briggsae_ortholog_indices=[] # the rows containing a briggsae gene with a 1;1 ortholog as query\n",
    "ortholog_pair_indices=[]\n",
    "briggsae_query_ortholog_without_pair=[]\n",
    "\n",
    "for index, row in briggsae_query_top_hits.iterrows():\n",
    "    if row['query_gene'] in list(briggsae_to_elegans.keys()):\n",
    "        briggsae_ortholog_indices.append(index)\n",
    "        if briggsae_to_elegans[row['query_gene']]==row['target_gene']:ortholog_pair_indices.append(index)\n",
    "        else: briggsae_query_ortholog_without_pair.append(index)"
   ]
  },
  {
   "cell_type": "code",
   "execution_count": 85,
   "id": "angry-stationery",
   "metadata": {},
   "outputs": [
    {
     "data": {
      "text/plain": [
       "11814"
      ]
     },
     "execution_count": 85,
     "metadata": {},
     "output_type": "execute_result"
    }
   ],
   "source": [
    "len(briggsae_ortholog_indices)"
   ]
  },
  {
   "cell_type": "code",
   "execution_count": 86,
   "id": "unlikely-mission",
   "metadata": {},
   "outputs": [
    {
     "data": {
      "text/plain": [
       "11584"
      ]
     },
     "execution_count": 86,
     "metadata": {},
     "output_type": "execute_result"
    }
   ],
   "source": [
    "len(ortholog_pair_indices)"
   ]
  },
  {
   "cell_type": "code",
   "execution_count": 89,
   "id": "lonely-boxing",
   "metadata": {},
   "outputs": [
    {
     "data": {
      "text/plain": [
       "230"
      ]
     },
     "execution_count": 89,
     "metadata": {},
     "output_type": "execute_result"
    }
   ],
   "source": [
    "len(briggsae_query_ortholog_without_pair) \n",
    "#230 cases where there is a briggsae ortholog and it is not matched to its elegans 1:1 ortholog"
   ]
  },
  {
   "cell_type": "code",
   "execution_count": 56,
   "id": "active-medium",
   "metadata": {},
   "outputs": [
    {
     "data": {
      "text/plain": [
       "20795"
      ]
     },
     "execution_count": 56,
     "metadata": {},
     "output_type": "execute_result"
    }
   ],
   "source": [
    "len(blast_query_genes)"
   ]
  },
  {
   "cell_type": "code",
   "execution_count": 82,
   "id": "suburban-disaster",
   "metadata": {},
   "outputs": [],
   "source": [
    "elegans_vs_briggsae_evals_hitnums=pd.read_csv('/home/helena_hatrick/part_ii_project/protein_sets/run_blastp/elegans_vs_briggsae_evals_hitnums',sep='\\t')\n",
    "#briggsae_vs_elegans_evals_hitnums=pd.read_csv('/home/helena_hatrick/part_ii_project/protein_sets/run_blastp/briggsae_vs_elegans_evals_hitnums',sep='\\t')"
   ]
  },
  {
   "cell_type": "code",
   "execution_count": 83,
   "id": "chubby-ladder",
   "metadata": {},
   "outputs": [
    {
     "data": {
      "text/plain": [
       "12388"
      ]
     },
     "execution_count": 83,
     "metadata": {},
     "output_type": "execute_result"
    }
   ],
   "source": [
    "len(elegans_vs_briggsae_evals_hitnums)\n",
    "#len(briggsae_vs_elegans_evals_hitnums)"
   ]
  },
  {
   "cell_type": "code",
   "execution_count": null,
   "id": "unusual-elevation",
   "metadata": {},
   "outputs": [],
   "source": []
  }
 ],
 "metadata": {
  "kernelspec": {
   "display_name": "Python 3",
   "language": "python",
   "name": "python3"
  },
  "language_info": {
   "codemirror_mode": {
    "name": "ipython",
    "version": 3
   },
   "file_extension": ".py",
   "mimetype": "text/x-python",
   "name": "python",
   "nbconvert_exporter": "python",
   "pygments_lexer": "ipython3",
   "version": "3.7.9"
  }
 },
 "nbformat": 4,
 "nbformat_minor": 5
}
