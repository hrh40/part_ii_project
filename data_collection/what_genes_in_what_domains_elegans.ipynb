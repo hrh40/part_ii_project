{
 "cells": [
  {
   "cell_type": "markdown",
   "id": "saved-greensboro",
   "metadata": {},
   "source": [
    "This notebook has the code for:\n",
    "1) Making a table with the corresponding gene name for each transcript from wormbase\n",
    "2) Making a table with just one entry per gene, with locations corresponding to the longest transcript\n",
    "3) Identifying the chromatin domain which each gene is in for the early embryo and third instar larva.\n",
    "4) Analysing the numbers of genes in each domain at different cutoffs for how much of the gene must overlap with the chromatin domain.\n",
    "5) Extracting all the genes that change from one domain to another between early embryos and L3 for the 100% cutoff. "
   ]
  },
  {
   "cell_type": "markdown",
   "id": "promising-miami",
   "metadata": {},
   "source": [
    "Had already made a table with just one entry per gene, with locations corresponding to the longest transcript using this notebook: /home/helena_hatrick/part_ii_project/canonical_genesets/elegans_get_good_gene_df. Saved the table to: canonical_genesets/elegans_one_of_each_gene.bed."
   ]
  },
  {
   "cell_type": "markdown",
   "id": "wrong-disposition",
   "metadata": {},
   "source": [
    "# Imports and setup"
   ]
  },
  {
   "cell_type": "code",
   "execution_count": 2,
   "id": "senior-blond",
   "metadata": {},
   "outputs": [],
   "source": [
    "import pandas as pd\n",
    "import numpy as np\n",
    "import pybedtools"
   ]
  },
  {
   "cell_type": "code",
   "execution_count": 3,
   "id": "radio-surprise",
   "metadata": {},
   "outputs": [],
   "source": [
    "from collections import defaultdict"
   ]
  },
  {
   "cell_type": "code",
   "execution_count": 4,
   "id": "fixed-submission",
   "metadata": {},
   "outputs": [],
   "source": [
    "import matplotlib.pyplot as plt\n",
    "import seaborn as sns"
   ]
  },
  {
   "cell_type": "code",
   "execution_count": 2,
   "id": "supreme-eight",
   "metadata": {},
   "outputs": [],
   "source": [
    "chrom_bed_columns=['chrom','chromStart','chromEnd','name',\n",
    "       'score','strand','thickStart','thickEnd','itemRgb']\n",
    "bed_12_columns=['chrom','chromStart','chromEnd','name',\n",
    "       'score','strand','thickStart','thickEnd','itemRgb',\n",
    "        'blockCount', 'blockSizes', 'blockStart']"
   ]
  },
  {
   "cell_type": "code",
   "execution_count": null,
   "id": "conditional-performance",
   "metadata": {},
   "outputs": [],
   "source": [
    "ee_cds=pd.read_csv('chromatin_domains/ee_domains_final.bed', names=chrom_bed_columns, sep='\\t')\n",
    "l3_cds=pd.read_csv('chromatin_domains/l3_domains_final.bed', names=chrom_bed_columns, sep='\\t')\n",
    "\n",
    "df=pd.read_csv('canonical_genesets/elegans_one_of_each_gene.bed', names=bed_12_columns, sep='\\t')"
   ]
  },
  {
   "cell_type": "markdown",
   "id": "comfortable-aging",
   "metadata": {},
   "source": [
    "# Use bedtools in Ubuntu to get a file of the intersection of chromatin domains and genes in c elegans"
   ]
  },
  {
   "cell_type": "markdown",
   "id": "major-london",
   "metadata": {},
   "source": [
    "a is what you're interested in. b is like the reference. So do a=genes and b=chromatin domains. Will have genes that span more than one entry, potentially even 3 domains. If you have a gene that lies mostly in an active domain but with a couple of base pairs to a border,  you should classify it as active, not as both. You need to give priority to one.\n",
    "\n",
    "Use the -f argument in the intersect command to define what percentage of the gene must overlap with the domain for it to be classified as part of that domain.\n",
    "\n",
    "-f 0.51 or more (maybe more stringent is better, needs to be *genuinely* more in one domain than another, but might also be interesting to look at borderline genes). Consider how they change between ee and l3. Try to define some cut-offs, try out different ones, see the variation between ee and l3. It lots of genes are changing between ee and l3 for a relatively low cutoff, it's a red flag. If lots of genes change domain even with a high cutoff, it seems to be a genuine property of genes."
   ]
  },
  {
   "cell_type": "markdown",
   "id": "underlying-costs",
   "metadata": {},
   "source": [
    "Ran this in Ubuntu: \n",
    "\n",
    "bedtools intersect -a canonical_genesets/elegans_one_of_each_gene.bed -b chromatin_domains/ee_domains_final.bed -wa -wb -f 0.51 > genes_in_ee_domains_51.bed\n",
    "\n",
    "bedtools intersect -a canonical_genesets/elegans_one_of_each_gene.bed -b chromatin_domains/l3_domains_final.bed -wa -wb -f 0.51 > genes_in_l3_domains_51.bed"
   ]
  },
  {
   "cell_type": "markdown",
   "id": "cardiac-capitol",
   "metadata": {},
   "source": [
    "# Analyse the intersect data"
   ]
  },
  {
   "cell_type": "code",
   "execution_count": 13,
   "id": "palestinian-coupon",
   "metadata": {},
   "outputs": [],
   "source": [
    "all_columns=[]\n",
    "for i in bed_12_columns:\n",
    "    x='gene_'+str(i)\n",
    "    all_columns.append(x)\n",
    "for i in chrom_bed_columns:\n",
    "    x='chrom_dom_'+str(i)\n",
    "    all_columns.append(x)"
   ]
  },
  {
   "cell_type": "code",
   "execution_count": 354,
   "id": "premier-laser",
   "metadata": {},
   "outputs": [],
   "source": [
    "def make_plot_for_cutoff(cutoff):\n",
    "        \n",
    "    path='genes_in_domains/genes_in_ee_domains_'+str(cutoff)+'.bed'\n",
    "    ee_df=pd.read_csv(path, names=all_columns, sep='\\t')\n",
    "    path='genes_in_domains/genes_in_l3_domains_'+str(cutoff)+'.bed'\n",
    "    l3_df=pd.read_csv(path, names=all_columns, sep='\\t')\n",
    "\n",
    "    a_genes_ee=[]\n",
    "    a_genes_l3=[]\n",
    "    b_genes_ee=[]\n",
    "    b_genes_l3=[]\n",
    "    r_genes_ee=[]\n",
    "    r_genes_l3=[]\n",
    "\n",
    "    for i in range(len(ee_df)):\n",
    "        if 'a' in ee_df['chrom_dom_name'][i]:a_genes_ee.append(i)\n",
    "        if 'b' in ee_df['chrom_dom_name'][i]:b_genes_ee.append(i)\n",
    "        if 'r' in ee_df['chrom_dom_name'][i]:r_genes_ee.append(i)\n",
    "        \n",
    "    for i in range(len(l3_df)):\n",
    "        if 'a' in l3_df['chrom_dom_name'][i]:a_genes_l3.append(i)\n",
    "        if 'b' in l3_df['chrom_dom_name'][i]:b_genes_l3.append(i)\n",
    "        if 'r' in l3_df['chrom_dom_name'][i]:r_genes_l3.append(i)\n",
    "            \n",
    "    plotting_df=pd.DataFrame(columns=['domain_type','developmental_stage','number_of_genes'])\n",
    "    plotting_df['domain_type']=['active', 'border', 'regulated', 'active', 'border','regulated']\n",
    "    plotting_df['developmental_stage']=['ee','ee','ee','l3','l3','l3']\n",
    "    plotting_df['number_of_genes']=[len(a_genes_ee), len(b_genes_ee), len(r_genes_ee),len(a_genes_l3), len(b_genes_l3), len(r_genes_l3)]\n",
    "    sns.set_theme(style='whitegrid')\n",
    "    ax=sns.barplot(x='domain_type',y='number_of_genes',hue='developmental_stage',data=plotting_df)"
   ]
  },
  {
   "cell_type": "markdown",
   "id": "packed-center",
   "metadata": {},
   "source": [
    "### Make a plot showing the number of genes in each type of domain in ee and l3 for a certain cutoff "
   ]
  },
  {
   "cell_type": "code",
   "execution_count": 9,
   "id": "first-locator",
   "metadata": {},
   "outputs": [],
   "source": [
    "def make_plot_for_cutoff_improved(cutoff):\n",
    "    \n",
    "    path='genes_in_domains/genes_in_ee_domains_'+str(cutoff)+'.bed'\n",
    "    ee_df=pd.read_csv(path, names=all_columns, sep='\\t')\n",
    "    path='genes_in_domains/genes_in_l3_domains_'+str(cutoff)+'.bed'\n",
    "    l3_df=pd.read_csv(path, names=all_columns, sep='\\t')\n",
    "    \n",
    "    regions = [ 'a', 'b', 'r' ]\n",
    "    stages=['ee','l3']\n",
    "        \n",
    "    for i in range(len(ee_df)):\n",
    "        for r in regions:\n",
    "            if r in ee_df['chrom_dom_name'][i]:\n",
    "                genehashlist[ ( r, 'ee') ].append( i )\n",
    "        \n",
    "    for i in range(len(l3_df)):\n",
    "        for r in regions:\n",
    "            if r in l3_df['chrom_dom_name'][i]:\n",
    "                genehashlist[ ( r, 'l3') ].append( i )\n",
    "\n",
    "    numgenesperregion = []\n",
    "    domain_type=[]\n",
    "    developmental_stage=[]\n",
    "    \n",
    "    for s in stages:\n",
    "        for r in regions:\n",
    "            numgenesperregion.append( len( genehashlist[ ( r, s ) ] ) )\n",
    "            domain_type.append(r)\n",
    "            developmental_stage.append(s)\n",
    "    \n",
    "    plotting_df=pd.DataFrame(columns=['domain_type','developmental_stage','number_of_genes'])\n",
    "    plotting_df['domain_type']=domain_type\n",
    "    plotting_df['developmental_stage']=developmental_stage\n",
    "    plotting_df['number_of_genes']=numgenesperregion\n",
    "    sns.set_theme(style='whitegrid')\n",
    "    ax=sns.barplot(x='domain_type',y='number_of_genes',hue='developmental_stage',data=plotting_df)"
   ]
  },
  {
   "cell_type": "code",
   "execution_count": 15,
   "id": "little-support",
   "metadata": {},
   "outputs": [
    {
     "data": {
      "image/png": "[encoded data removed]",
      "text/plain": [
       "<Figure size 432x288 with 1 Axes>"
      ]
     },
     "metadata": {},
     "output_type": "display_data"
    }
   ],
   "source": [
    "make_plot_for_cutoff_improved(60)"
   ]
  },
  {
   "cell_type": "markdown",
   "id": "faced-boring",
   "metadata": {},
   "source": [
    "### Make a plot showing the cumulative changes in domain type between ee and l3 at different cutoffs"
   ]
  },
  {
   "cell_type": "code",
   "execution_count": 425,
   "id": "statistical-submission",
   "metadata": {},
   "outputs": [],
   "source": [
    "def how_many_genes_changed(cutoff):\n",
    "    path='genes_in_domains/genes_in_ee_domains_'+str(cutoff)+'.bed'\n",
    "    ee_df=pd.read_csv(path, names=all_columns, sep='\\t')\n",
    "    path='genes_in_domains/genes_in_l3_domains_'+str(cutoff)+'.bed'\n",
    "    l3_df=pd.read_csv(path, names=all_columns, sep='\\t')\n",
    "\n",
    "    regions = [ 'a', 'b', 'r' ]\n",
    "    stages=['ee','l3']\n",
    "    \n",
    "    genehashlist = defaultdict( list )\n",
    "    \n",
    "    for i in range(len(ee_df)):\n",
    "        for r in regions:\n",
    "            if r in ee_df['chrom_dom_name'][i]:\n",
    "                genehashlist[ ( r, 'ee') ].append( i )\n",
    "        \n",
    "    for i in range(len(l3_df)):\n",
    "        for r in regions:\n",
    "            if r in l3_df['chrom_dom_name'][i]:\n",
    "                genehashlist[ ( r, 'l3') ].append( i )\n",
    "                \n",
    "    numbers_dict={}\n",
    "    for r in regions:\n",
    "        numbers_dict[r]={}\n",
    "        for s in stages:\n",
    "            numbers_dict[r][s]=len(genehashlist[(r,s)])\n",
    "        \n",
    "    total_changes=0\n",
    "    for r in regions:\n",
    "        value=numbers_dict[r]['l3']-numbers_dict[r]['ee']\n",
    "        total_changes=total_changes+abs(value)\n",
    "    \n",
    "    return(total_changes)"
   ]
  },
  {
   "cell_type": "code",
   "execution_count": 427,
   "id": "acute-sacramento",
   "metadata": {},
   "outputs": [],
   "source": [
    "def compare_number_of_changes(cutoffs_list):\n",
    "    \n",
    "    y_values=[]\n",
    "    for cutoff in cutoffs_list:\n",
    "        y_values.append(how_many_genes_changed(cutoff))\n",
    "\n",
    "    plotting_df=pd.DataFrame({'cutoffs':cutoffs_list, 'y_values':y_values})\n",
    "    \n",
    "    sns.lmplot(x='cutoffs', y='y_values', data=plotting_df, ci=None)"
   ]
  },
  {
   "cell_type": "code",
   "execution_count": 439,
   "id": "registered-crash",
   "metadata": {},
   "outputs": [
    {
     "data": {
      "image/png": "[encoded data removed]",
      "text/plain": [
       "<Figure size 360x360 with 1 Axes>"
      ]
     },
     "metadata": {},
     "output_type": "display_data"
    }
   ],
   "source": [
    "compare_number_of_changes([51,55,60,65,70,75,80,85,90,95,99])"
   ]
  },
  {
   "cell_type": "markdown",
   "id": "racial-victor",
   "metadata": {},
   "source": [
    "### Look at a few genes that change and see at what cutoff they do so"
   ]
  },
  {
   "cell_type": "markdown",
   "id": "anticipated-pharmaceutical",
   "metadata": {},
   "source": [
    "Go and check a few genes manually. Look at one gene. Extract a few genes that change between stages. See if the trend is a real trend. See where these genes are. See if a gene stays within the domain up until a certain cutoff, and then below that it changes. Don't need to look at what changes to what really. He'd use the most stringest cut-off. You know you have the genes that are a little bit in betwee, a red flag. You can't tell if it's changed to anew domain in c. briggsae."
   ]
  },
  {
   "cell_type": "code",
   "execution_count": 153,
   "id": "convenient-plant",
   "metadata": {},
   "outputs": [],
   "source": [
    "def changed_genes_per_cutoff(cutoff):\n",
    "    ee_df=pd.read_csv('genes_in_domains/genes_in_ee_domains_'+str(cutoff)+'.bed', names=all_columns, sep='\\t')\n",
    "    l3_df=pd.read_csv('genes_in_domains/genes_in_l3_domains_'+str(cutoff)+'.bed', names=all_columns, sep='\\t')\n",
    "    moved_genes=[]\n",
    "    present_genes=[]\n",
    "    for i in range(len(ee_df[:1000])):\n",
    "        gene=ee_df['gene_name'][i]\n",
    "        ee_domain=ee_df['chrom_dom_name'][i][:1]\n",
    "        l3_row=l3_df[l3_df['gene_name']==gene].reset_index()\n",
    "        if len(l3_row)>0:\n",
    "            present_genes.append(gene)\n",
    "            l3_domain=l3_row['chrom_dom_name'][0]\n",
    "            if l3_domain[:1] != ee_domain:\n",
    "                moved_genes.append(gene)\n",
    "    print((moved_genes[:5]),len(moved_genes))\n",
    "    "
   ]
  },
  {
   "cell_type": "code",
   "execution_count": 155,
   "id": "psychological-suffering",
   "metadata": {},
   "outputs": [
    {
     "name": "stdout",
     "output_type": "stream",
     "text": [
      "['WBGene00021677', 'WBGene00004962', 'WBGene00018772', 'WBGene00018958', 'WBGene00000917'] 126\n"
     ]
    }
   ],
   "source": [
    "changed_genes_per_cutoff(70)"
   ]
  },
  {
   "cell_type": "code",
   "execution_count": 156,
   "id": "cloudy-blair",
   "metadata": {},
   "outputs": [
    {
     "name": "stdout",
     "output_type": "stream",
     "text": [
      "['WBGene00021677', 'WBGene00004962', 'WBGene00018772', 'WBGene00018958', 'WBGene00021025'] 117\n"
     ]
    }
   ],
   "source": [
    "changed_genes_per_cutoff(80)"
   ]
  },
  {
   "cell_type": "code",
   "execution_count": 157,
   "id": "english-combining",
   "metadata": {},
   "outputs": [
    {
     "name": "stdout",
     "output_type": "stream",
     "text": [
      "['WBGene00004962', 'WBGene00018958', 'WBGene00021025', 'WBGene00235388', 'WBGene00022033'] 80\n"
     ]
    }
   ],
   "source": [
    "changed_genes_per_cutoff(100)"
   ]
  },
  {
   "cell_type": "markdown",
   "id": "cheap-church",
   "metadata": {},
   "source": [
    "So they show the pattern you'd expect. Progressively lose genes that change domain with each increase in cutoff value. Even though the graph looks weird, it seems mostly okay. This is just looking at genes in domains in both ee and l3."
   ]
  },
  {
   "cell_type": "markdown",
   "id": "disabled-pierce",
   "metadata": {},
   "source": [
    "### Extract all the genes that change from one domain to another between ee and l3"
   ]
  },
  {
   "cell_type": "markdown",
   "id": "rubber-dynamics",
   "metadata": {},
   "source": [
    "Look specifically at genes that are in domains in both ee and l3, unlike what I did before. Use 100% cutoff. Then do enrichment analysis of these genes using the wormbase tools/enrichment/tea/tea.cgi"
   ]
  },
  {
   "cell_type": "code",
   "execution_count": 51,
   "id": "heavy-territory",
   "metadata": {},
   "outputs": [],
   "source": [
    "ee=pd.read_csv('genes_in_ee_domains_100.bed', names=all_columns, sep='\\t')\n",
    "l3=pd.read_csv('genes_in_l3_domains_100.bed', names=all_columns,sep='\\t')"
   ]
  },
  {
   "cell_type": "code",
   "execution_count": 52,
   "id": "collaborative-sociology",
   "metadata": {},
   "outputs": [
    {
     "data": {
      "text/html": [
       "<div>\n",
       "<style scoped>\n",
       "    .dataframe tbody tr th:only-of-type {\n",
       "        vertical-align: middle;\n",
       "    }\n",
       "\n",
       "    .dataframe tbody tr th {\n",
       "        vertical-align: top;\n",
       "    }\n",
       "\n",
       "    .dataframe thead th {\n",
       "        text-align: right;\n",
       "    }\n",
       "</style>\n",
       "<table border=\"1\" class=\"dataframe\">\n",
       "  <thead>\n",
       "    <tr style=\"text-align: right;\">\n",
       "      <th></th>\n",
       "      <th>gene_chrom</th>\n",
       "      <th>gene_chromStart</th>\n",
       "      <th>gene_chromEnd</th>\n",
       "      <th>gene_name</th>\n",
       "      <th>gene_score</th>\n",
       "      <th>gene_strand</th>\n",
       "      <th>gene_thickStart</th>\n",
       "      <th>gene_thickEnd</th>\n",
       "      <th>gene_itemRgb</th>\n",
       "      <th>gene_blockCount</th>\n",
       "      <th>...</th>\n",
       "      <th>gene_blockStart</th>\n",
       "      <th>chrom_dom_chrom</th>\n",
       "      <th>chrom_dom_chromStart</th>\n",
       "      <th>chrom_dom_chromEnd</th>\n",
       "      <th>chrom_dom_name</th>\n",
       "      <th>chrom_dom_score</th>\n",
       "      <th>chrom_dom_strand</th>\n",
       "      <th>chrom_dom_thickStart</th>\n",
       "      <th>chrom_dom_thickEnd</th>\n",
       "      <th>chrom_dom_itemRgb</th>\n",
       "    </tr>\n",
       "  </thead>\n",
       "  <tbody>\n",
       "    <tr>\n",
       "      <th>0</th>\n",
       "      <td>I</td>\n",
       "      <td>4114</td>\n",
       "      <td>10606</td>\n",
       "      <td>WBGene00022277</td>\n",
       "      <td>0</td>\n",
       "      <td>-</td>\n",
       "      <td>4220</td>\n",
       "      <td>10148</td>\n",
       "      <td>0</td>\n",
       "      <td>6</td>\n",
       "      <td>...</td>\n",
       "      <td>0,1080,1922,5612,5980,6415,</td>\n",
       "      <td>I</td>\n",
       "      <td>3997</td>\n",
       "      <td>54536</td>\n",
       "      <td>a_0</td>\n",
       "      <td>0</td>\n",
       "      <td>0</td>\n",
       "      <td>3997</td>\n",
       "      <td>54536</td>\n",
       "      <td>0,138,0</td>\n",
       "    </tr>\n",
       "    <tr>\n",
       "      <th>1</th>\n",
       "      <td>I</td>\n",
       "      <td>11494</td>\n",
       "      <td>16837</td>\n",
       "      <td>WBGene00022276</td>\n",
       "      <td>0</td>\n",
       "      <td>+</td>\n",
       "      <td>11640</td>\n",
       "      <td>16585</td>\n",
       "      <td>0</td>\n",
       "      <td>4</td>\n",
       "      <td>...</td>\n",
       "      <td>0,123,3456,4978,</td>\n",
       "      <td>I</td>\n",
       "      <td>3997</td>\n",
       "      <td>54536</td>\n",
       "      <td>a_0</td>\n",
       "      <td>0</td>\n",
       "      <td>0</td>\n",
       "      <td>3997</td>\n",
       "      <td>54536</td>\n",
       "      <td>0,138,0</td>\n",
       "    </tr>\n",
       "    <tr>\n",
       "      <th>2</th>\n",
       "      <td>I</td>\n",
       "      <td>17482</td>\n",
       "      <td>26781</td>\n",
       "      <td>WBGene00022278</td>\n",
       "      <td>0</td>\n",
       "      <td>-</td>\n",
       "      <td>17910</td>\n",
       "      <td>26778</td>\n",
       "      <td>0</td>\n",
       "      <td>12</td>\n",
       "      <td>...</td>\n",
       "      <td>0,523,1532,2788,3365,3530,7168,7446,7790,8888,...</td>\n",
       "      <td>I</td>\n",
       "      <td>3997</td>\n",
       "      <td>54536</td>\n",
       "      <td>a_0</td>\n",
       "      <td>0</td>\n",
       "      <td>0</td>\n",
       "      <td>3997</td>\n",
       "      <td>54536</td>\n",
       "      <td>0,138,0</td>\n",
       "    </tr>\n",
       "    <tr>\n",
       "      <th>3</th>\n",
       "      <td>I</td>\n",
       "      <td>27588</td>\n",
       "      <td>33150</td>\n",
       "      <td>WBGene00022279</td>\n",
       "      <td>0</td>\n",
       "      <td>-</td>\n",
       "      <td>28279</td>\n",
       "      <td>32482</td>\n",
       "      <td>0</td>\n",
       "      <td>6</td>\n",
       "      <td>...</td>\n",
       "      <td>0,1511,2180,4180,4823,5448,</td>\n",
       "      <td>I</td>\n",
       "      <td>3997</td>\n",
       "      <td>54536</td>\n",
       "      <td>a_0</td>\n",
       "      <td>0</td>\n",
       "      <td>0</td>\n",
       "      <td>3997</td>\n",
       "      <td>54536</td>\n",
       "      <td>0,138,0</td>\n",
       "    </tr>\n",
       "    <tr>\n",
       "      <th>4</th>\n",
       "      <td>I</td>\n",
       "      <td>43732</td>\n",
       "      <td>44677</td>\n",
       "      <td>WBGene00022275</td>\n",
       "      <td>0</td>\n",
       "      <td>+</td>\n",
       "      <td>43732</td>\n",
       "      <td>44677</td>\n",
       "      <td>0</td>\n",
       "      <td>5</td>\n",
       "      <td>...</td>\n",
       "      <td>0,297,548,639,788,</td>\n",
       "      <td>I</td>\n",
       "      <td>3997</td>\n",
       "      <td>54536</td>\n",
       "      <td>a_0</td>\n",
       "      <td>0</td>\n",
       "      <td>0</td>\n",
       "      <td>3997</td>\n",
       "      <td>54536</td>\n",
       "      <td>0,138,0</td>\n",
       "    </tr>\n",
       "    <tr>\n",
       "      <th>...</th>\n",
       "      <td>...</td>\n",
       "      <td>...</td>\n",
       "      <td>...</td>\n",
       "      <td>...</td>\n",
       "      <td>...</td>\n",
       "      <td>...</td>\n",
       "      <td>...</td>\n",
       "      <td>...</td>\n",
       "      <td>...</td>\n",
       "      <td>...</td>\n",
       "      <td>...</td>\n",
       "      <td>...</td>\n",
       "      <td>...</td>\n",
       "      <td>...</td>\n",
       "      <td>...</td>\n",
       "      <td>...</td>\n",
       "      <td>...</td>\n",
       "      <td>...</td>\n",
       "      <td>...</td>\n",
       "      <td>...</td>\n",
       "      <td>...</td>\n",
       "    </tr>\n",
       "    <tr>\n",
       "      <th>14853</th>\n",
       "      <td>V</td>\n",
       "      <td>20879600</td>\n",
       "      <td>20898909</td>\n",
       "      <td>WBGene00006812</td>\n",
       "      <td>0</td>\n",
       "      <td>+</td>\n",
       "      <td>20879853</td>\n",
       "      <td>20898738</td>\n",
       "      <td>0</td>\n",
       "      <td>34</td>\n",
       "      <td>...</td>\n",
       "      <td>0,1061,1178,1640,1805,3208,4652,5004,5590,6021...</td>\n",
       "      <td>V</td>\n",
       "      <td>20854830</td>\n",
       "      <td>20923190</td>\n",
       "      <td>r_1040</td>\n",
       "      <td>0</td>\n",
       "      <td>0</td>\n",
       "      <td>20854830</td>\n",
       "      <td>20923190</td>\n",
       "      <td>0,0,255</td>\n",
       "    </tr>\n",
       "    <tr>\n",
       "      <th>14854</th>\n",
       "      <td>V</td>\n",
       "      <td>20898839</td>\n",
       "      <td>20903535</td>\n",
       "      <td>WBGene00000139</td>\n",
       "      <td>0</td>\n",
       "      <td>-</td>\n",
       "      <td>20898969</td>\n",
       "      <td>20903441</td>\n",
       "      <td>0</td>\n",
       "      <td>6</td>\n",
       "      <td>...</td>\n",
       "      <td>0,323,1678,2188,2456,4599,</td>\n",
       "      <td>V</td>\n",
       "      <td>20854830</td>\n",
       "      <td>20923190</td>\n",
       "      <td>r_1040</td>\n",
       "      <td>0</td>\n",
       "      <td>0</td>\n",
       "      <td>20854830</td>\n",
       "      <td>20923190</td>\n",
       "      <td>0,0,255</td>\n",
       "    </tr>\n",
       "    <tr>\n",
       "      <th>14855</th>\n",
       "      <td>V</td>\n",
       "      <td>20903976</td>\n",
       "      <td>20907433</td>\n",
       "      <td>WBGene00009106</td>\n",
       "      <td>0</td>\n",
       "      <td>+</td>\n",
       "      <td>20904174</td>\n",
       "      <td>20907333</td>\n",
       "      <td>0</td>\n",
       "      <td>7</td>\n",
       "      <td>...</td>\n",
       "      <td>0,351,719,1010,1232,1664,3166,</td>\n",
       "      <td>V</td>\n",
       "      <td>20854830</td>\n",
       "      <td>20923190</td>\n",
       "      <td>r_1040</td>\n",
       "      <td>0</td>\n",
       "      <td>0</td>\n",
       "      <td>20854830</td>\n",
       "      <td>20923190</td>\n",
       "      <td>0,0,255</td>\n",
       "    </tr>\n",
       "    <tr>\n",
       "      <th>14856</th>\n",
       "      <td>V</td>\n",
       "      <td>20910466</td>\n",
       "      <td>20914387</td>\n",
       "      <td>WBGene00044187</td>\n",
       "      <td>0</td>\n",
       "      <td>+</td>\n",
       "      <td>20910531</td>\n",
       "      <td>20914387</td>\n",
       "      <td>0</td>\n",
       "      <td>9</td>\n",
       "      <td>...</td>\n",
       "      <td>0,184,918,2080,2216,3019,3245,3403,3889,</td>\n",
       "      <td>V</td>\n",
       "      <td>20854830</td>\n",
       "      <td>20923190</td>\n",
       "      <td>r_1040</td>\n",
       "      <td>0</td>\n",
       "      <td>0</td>\n",
       "      <td>20854830</td>\n",
       "      <td>20923190</td>\n",
       "      <td>0,0,255</td>\n",
       "    </tr>\n",
       "    <tr>\n",
       "      <th>14857</th>\n",
       "      <td>V</td>\n",
       "      <td>20915485</td>\n",
       "      <td>20922738</td>\n",
       "      <td>WBGene00012857</td>\n",
       "      <td>0</td>\n",
       "      <td>+</td>\n",
       "      <td>20915489</td>\n",
       "      <td>20922557</td>\n",
       "      <td>0</td>\n",
       "      <td>9</td>\n",
       "      <td>...</td>\n",
       "      <td>0,204,1413,1982,2947,3389,3592,3771,6910,</td>\n",
       "      <td>V</td>\n",
       "      <td>20854830</td>\n",
       "      <td>20923190</td>\n",
       "      <td>r_1040</td>\n",
       "      <td>0</td>\n",
       "      <td>0</td>\n",
       "      <td>20854830</td>\n",
       "      <td>20923190</td>\n",
       "      <td>0,0,255</td>\n",
       "    </tr>\n",
       "  </tbody>\n",
       "</table>\n",
       "<p>14858 rows × 21 columns</p>\n",
       "</div>"
      ],
      "text/plain": [
       "      gene_chrom  gene_chromStart  gene_chromEnd       gene_name  gene_score  \\\n",
       "0              I             4114          10606  WBGene00022277           0   \n",
       "1              I            11494          16837  WBGene00022276           0   \n",
       "2              I            17482          26781  WBGene00022278           0   \n",
       "3              I            27588          33150  WBGene00022279           0   \n",
       "4              I            43732          44677  WBGene00022275           0   \n",
       "...          ...              ...            ...             ...         ...   \n",
       "14853          V         20879600       20898909  WBGene00006812           0   \n",
       "14854          V         20898839       20903535  WBGene00000139           0   \n",
       "14855          V         20903976       20907433  WBGene00009106           0   \n",
       "14856          V         20910466       20914387  WBGene00044187           0   \n",
       "14857          V         20915485       20922738  WBGene00012857           0   \n",
       "\n",
       "      gene_strand  gene_thickStart  gene_thickEnd  gene_itemRgb  \\\n",
       "0               -             4220          10148             0   \n",
       "1               +            11640          16585             0   \n",
       "2               -            17910          26778             0   \n",
       "3               -            28279          32482             0   \n",
       "4               +            43732          44677             0   \n",
       "...           ...              ...            ...           ...   \n",
       "14853           +         20879853       20898738             0   \n",
       "14854           -         20898969       20903441             0   \n",
       "14855           +         20904174       20907333             0   \n",
       "14856           +         20910531       20914387             0   \n",
       "14857           +         20915489       20922557             0   \n",
       "\n",
       "       gene_blockCount  ...  \\\n",
       "0                    6  ...   \n",
       "1                    4  ...   \n",
       "2                   12  ...   \n",
       "3                    6  ...   \n",
       "4                    5  ...   \n",
       "...                ...  ...   \n",
       "14853               34  ...   \n",
       "14854                6  ...   \n",
       "14855                7  ...   \n",
       "14856                9  ...   \n",
       "14857                9  ...   \n",
       "\n",
       "                                         gene_blockStart chrom_dom_chrom  \\\n",
       "0                            0,1080,1922,5612,5980,6415,               I   \n",
       "1                                       0,123,3456,4978,               I   \n",
       "2      0,523,1532,2788,3365,3530,7168,7446,7790,8888,...               I   \n",
       "3                            0,1511,2180,4180,4823,5448,               I   \n",
       "4                                     0,297,548,639,788,               I   \n",
       "...                                                  ...             ...   \n",
       "14853  0,1061,1178,1640,1805,3208,4652,5004,5590,6021...               V   \n",
       "14854                         0,323,1678,2188,2456,4599,               V   \n",
       "14855                     0,351,719,1010,1232,1664,3166,               V   \n",
       "14856           0,184,918,2080,2216,3019,3245,3403,3889,               V   \n",
       "14857          0,204,1413,1982,2947,3389,3592,3771,6910,               V   \n",
       "\n",
       "      chrom_dom_chromStart  chrom_dom_chromEnd  chrom_dom_name  \\\n",
       "0                     3997               54536             a_0   \n",
       "1                     3997               54536             a_0   \n",
       "2                     3997               54536             a_0   \n",
       "3                     3997               54536             a_0   \n",
       "4                     3997               54536             a_0   \n",
       "...                    ...                 ...             ...   \n",
       "14853             20854830            20923190          r_1040   \n",
       "14854             20854830            20923190          r_1040   \n",
       "14855             20854830            20923190          r_1040   \n",
       "14856             20854830            20923190          r_1040   \n",
       "14857             20854830            20923190          r_1040   \n",
       "\n",
       "      chrom_dom_score chrom_dom_strand chrom_dom_thickStart  \\\n",
       "0                   0                0                 3997   \n",
       "1                   0                0                 3997   \n",
       "2                   0                0                 3997   \n",
       "3                   0                0                 3997   \n",
       "4                   0                0                 3997   \n",
       "...               ...              ...                  ...   \n",
       "14853               0                0             20854830   \n",
       "14854               0                0             20854830   \n",
       "14855               0                0             20854830   \n",
       "14856               0                0             20854830   \n",
       "14857               0                0             20854830   \n",
       "\n",
       "       chrom_dom_thickEnd  chrom_dom_itemRgb  \n",
       "0                   54536            0,138,0  \n",
       "1                   54536            0,138,0  \n",
       "2                   54536            0,138,0  \n",
       "3                   54536            0,138,0  \n",
       "4                   54536            0,138,0  \n",
       "...                   ...                ...  \n",
       "14853            20923190            0,0,255  \n",
       "14854            20923190            0,0,255  \n",
       "14855            20923190            0,0,255  \n",
       "14856            20923190            0,0,255  \n",
       "14857            20923190            0,0,255  \n",
       "\n",
       "[14858 rows x 21 columns]"
      ]
     },
     "execution_count": 52,
     "metadata": {},
     "output_type": "execute_result"
    }
   ],
   "source": [
    "ee"
   ]
  },
  {
   "cell_type": "code",
   "execution_count": 53,
   "id": "younger-representative",
   "metadata": {},
   "outputs": [],
   "source": [
    "l3_genes=set(l3['gene_name'])"
   ]
  },
  {
   "cell_type": "code",
   "execution_count": 54,
   "id": "limited-cover",
   "metadata": {},
   "outputs": [],
   "source": [
    "genes_in_both=[]\n",
    "\n",
    "for index, row in ee.iterrows():\n",
    "    if row['gene_name'] in l3_genes:\n",
    "        genes_in_both.append(row['gene_name'])"
   ]
  },
  {
   "cell_type": "code",
   "execution_count": 56,
   "id": "apart-technician",
   "metadata": {},
   "outputs": [],
   "source": [
    "changing_genes=[]\n",
    "strange_ee=[]\n",
    "strange_l3=[]\n",
    "\n",
    "for gene in genes_in_both:\n",
    "    \n",
    "    ee_row=ee[ee['gene_name']==gene].copy().reset_index()\n",
    "    if len(ee_row)!=1:strange_ee.append(gene) \n",
    "    l3_row=l3[l3['gene_name']==gene].copy().reset_index()\n",
    "    if len(l3_row)!=1: strange_l3.append(gene)\n",
    "        \n",
    "    ee_dom_type=ee_row['chrom_dom_name'][0][:2]\n",
    "    l3_dom_type=l3_row['chrom_dom_name'][0][:2]\n",
    "    if ee_dom_type != l3_dom_type: changing_genes.append(gene)"
   ]
  },
  {
   "cell_type": "code",
   "execution_count": 57,
   "id": "former-style",
   "metadata": {},
   "outputs": [
    {
     "data": {
      "text/plain": [
       "13488"
      ]
     },
     "execution_count": 57,
     "metadata": {},
     "output_type": "execute_result"
    }
   ],
   "source": [
    "len(genes_in_both)"
   ]
  },
  {
   "cell_type": "code",
   "execution_count": 58,
   "id": "advised-marshall",
   "metadata": {},
   "outputs": [
    {
     "data": {
      "text/plain": [
       "1135"
      ]
     },
     "execution_count": 58,
     "metadata": {},
     "output_type": "execute_result"
    }
   ],
   "source": [
    "len(changing_genes)"
   ]
  },
  {
   "cell_type": "code",
   "execution_count": 60,
   "id": "reliable-legislature",
   "metadata": {},
   "outputs": [],
   "source": [
    "changed_genes=pd.DataFrame({'gene_name':changing_genes})\n",
    "changed_genes.to_csv('changed_domain_genes.txt', header=None, index=None, sep='\\n')"
   ]
  },
  {
   "cell_type": "code",
   "execution_count": 64,
   "id": "bridal-treaty",
   "metadata": {},
   "outputs": [],
   "source": [
    "bkg_genes=pd.DataFrame({'gene_name':genes_in_both})\n",
    "bkg_genes.to_csv('background_genes.txt', header=None, index=None, sep='\\n')"
   ]
  },
  {
   "cell_type": "markdown",
   "id": "round-precipitation",
   "metadata": {},
   "source": [
    "### Input these genes into enrichment analysis"
   ]
  },
  {
   "cell_type": "markdown",
   "id": "fancy-protection",
   "metadata": {},
   "source": [
    "https://wormbase.org/tools/enrichment/tea/tea.cgi\n",
    "\n",
    "Uploaded changed_domain_genes.txt and background_genes.txt\n",
    "\n",
    "Downloaded results to 'genes_in_domains/changed_domain_gene_characteristics/'"
   ]
  },
  {
   "cell_type": "markdown",
   "id": "atlantic-cooling",
   "metadata": {},
   "source": [
    "# Scrap"
   ]
  },
  {
   "cell_type": "code",
   "execution_count": 182,
   "id": "large-physics",
   "metadata": {},
   "outputs": [],
   "source": [
    "all_genes=[]\n",
    "domain_type_in_ee=[]\n",
    "domain_type_in_l3=[]\n",
    "\n",
    "for gene in genes_file['name'][:1000]:\n",
    "    all_genes.append(str(gene))\n",
    "    \n",
    "    if gene in list(ee_df['gene_name']):\n",
    "        row_in_ee=ee_df[ee_df['gene_name']==gene]\n",
    "        if 'a' in str(row_in_ee['chrom_dom_name']): domain_type_in_ee.append('active')\n",
    "        elif 'b' in str(row_in_ee['chrom_dom_name']): domain_type_in_ee.append('border')\n",
    "        elif 'r' in str(row_in_ee['chrom_dom_name']): domain_type_in_ee.append('regulated')\n",
    "    else: domain_type_in_ee.append('None')\n",
    "\n",
    "    if gene in list(l3_df['gene_name']):\n",
    "        row_in_l3=l3_df[l3_df['gene_name']==gene]\n",
    "        if 'a' in str(row_in_l3['chrom_dom_name']): domain_type_in_l3.append('active')\n",
    "        elif 'b' in str(row_in_l3['chrom_dom_name']): domain_type_in_l3.append('border')\n",
    "        elif 'r' in str(row_in_l3['chrom_dom_name']): domain_type_in_l3.append('regulated')\n",
    "    else: domain_type_in_l3.append('None')\n",
    "        \n",
    "#20 genes seem to be in 2 domains, so these results aren't completely accurate because I'm using elif. But wasn't sure how to deal with it otherwise"
   ]
  },
  {
   "cell_type": "code",
   "execution_count": 183,
   "id": "legendary-airfare",
   "metadata": {},
   "outputs": [
    {
     "data": {
      "text/plain": [
       "1000"
      ]
     },
     "execution_count": 183,
     "metadata": {},
     "output_type": "execute_result"
    }
   ],
   "source": [
    "len(all_genes)"
   ]
  },
  {
   "cell_type": "code",
   "execution_count": 184,
   "id": "digital-egypt",
   "metadata": {},
   "outputs": [
    {
     "data": {
      "text/plain": [
       "1000"
      ]
     },
     "execution_count": 184,
     "metadata": {},
     "output_type": "execute_result"
    }
   ],
   "source": [
    "len(domain_type_in_ee)"
   ]
  },
  {
   "cell_type": "code",
   "execution_count": 186,
   "id": "primary-float",
   "metadata": {},
   "outputs": [],
   "source": [
    "genes_in_domains=pd.DataFrame({'gene':all_genes, 'ee_domain':domain_type_in_ee, 'l3_domain':domain_type_in_l3})"
   ]
  },
  {
   "cell_type": "code",
   "execution_count": 189,
   "id": "sustained-animal",
   "metadata": {},
   "outputs": [
    {
     "data": {
      "text/html": [
       "<div>\n",
       "<style scoped>\n",
       "    .dataframe tbody tr th:only-of-type {\n",
       "        vertical-align: middle;\n",
       "    }\n",
       "\n",
       "    .dataframe tbody tr th {\n",
       "        vertical-align: top;\n",
       "    }\n",
       "\n",
       "    .dataframe thead th {\n",
       "        text-align: right;\n",
       "    }\n",
       "</style>\n",
       "<table border=\"1\" class=\"dataframe\">\n",
       "  <thead>\n",
       "    <tr style=\"text-align: right;\">\n",
       "      <th></th>\n",
       "      <th>gene</th>\n",
       "      <th>ee_domain</th>\n",
       "      <th>l3_domain</th>\n",
       "    </tr>\n",
       "  </thead>\n",
       "  <tbody>\n",
       "  </tbody>\n",
       "</table>\n",
       "</div>"
      ],
      "text/plain": [
       "Empty DataFrame\n",
       "Columns: [gene, ee_domain, l3_domain]\n",
       "Index: []"
      ]
     },
     "execution_count": 189,
     "metadata": {},
     "output_type": "execute_result"
    }
   ],
   "source": [
    "genes_in_domains[genes_in_domains['l3_domain']=='border']"
   ]
  },
  {
   "cell_type": "code",
   "execution_count": 185,
   "id": "pointed-extra",
   "metadata": {},
   "outputs": [
    {
     "data": {
      "text/plain": [
       "67621"
      ]
     },
     "execution_count": 185,
     "metadata": {},
     "output_type": "execute_result"
    }
   ],
   "source": [
    "len(ee_df)"
   ]
  },
  {
   "cell_type": "code",
   "execution_count": 161,
   "id": "seven-queens",
   "metadata": {},
   "outputs": [
    {
     "data": {
      "text/plain": [
       "71100"
      ]
     },
     "execution_count": 161,
     "metadata": {},
     "output_type": "execute_result"
    }
   ],
   "source": [
    "len(genes_file)"
   ]
  },
  {
   "cell_type": "code",
   "execution_count": 157,
   "id": "hungry-radiation",
   "metadata": {},
   "outputs": [],
   "source": [
    "genes_in_domains=pd.DataFrame({'gene':all_genes, 'ee_domain':domain_type_in_ee, 'l3_domain':domain_type_in_l3})"
   ]
  },
  {
   "cell_type": "code",
   "execution_count": 158,
   "id": "processed-access",
   "metadata": {},
   "outputs": [],
   "source": [
    "active=genes_in_domains[genes_in_domains['l3_domain']=='active']"
   ]
  },
  {
   "cell_type": "code",
   "execution_count": 159,
   "id": "liquid-start",
   "metadata": {},
   "outputs": [
    {
     "data": {
      "text/plain": [
       "0"
      ]
     },
     "execution_count": 159,
     "metadata": {},
     "output_type": "execute_result"
    }
   ],
   "source": [
    "len(active)"
   ]
  },
  {
   "cell_type": "code",
   "execution_count": 129,
   "id": "fourth-claim",
   "metadata": {},
   "outputs": [
    {
     "data": {
      "text/html": [
       "<div>\n",
       "<style scoped>\n",
       "    .dataframe tbody tr th:only-of-type {\n",
       "        vertical-align: middle;\n",
       "    }\n",
       "\n",
       "    .dataframe tbody tr th {\n",
       "        vertical-align: top;\n",
       "    }\n",
       "\n",
       "    .dataframe thead th {\n",
       "        text-align: right;\n",
       "    }\n",
       "</style>\n",
       "<table border=\"1\" class=\"dataframe\">\n",
       "  <thead>\n",
       "    <tr style=\"text-align: right;\">\n",
       "      <th></th>\n",
       "      <th>gene</th>\n",
       "      <th>ee_domain</th>\n",
       "      <th>l3_domain</th>\n",
       "    </tr>\n",
       "  </thead>\n",
       "  <tbody>\n",
       "    <tr>\n",
       "      <th>0</th>\n",
       "      <td>MTCE.1</td>\n",
       "      <td>None</td>\n",
       "      <td>None</td>\n",
       "    </tr>\n",
       "    <tr>\n",
       "      <th>1</th>\n",
       "      <td>MTCE.2</td>\n",
       "      <td>None</td>\n",
       "      <td>None</td>\n",
       "    </tr>\n",
       "    <tr>\n",
       "      <th>2</th>\n",
       "      <td>MTCE.3.1</td>\n",
       "      <td>None</td>\n",
       "      <td>None</td>\n",
       "    </tr>\n",
       "    <tr>\n",
       "      <th>3</th>\n",
       "      <td>MTCE.4.1</td>\n",
       "      <td>None</td>\n",
       "      <td>None</td>\n",
       "    </tr>\n",
       "    <tr>\n",
       "      <th>4</th>\n",
       "      <td>MTCE.5</td>\n",
       "      <td>None</td>\n",
       "      <td>None</td>\n",
       "    </tr>\n",
       "    <tr>\n",
       "      <th>...</th>\n",
       "      <td>...</td>\n",
       "      <td>...</td>\n",
       "      <td>...</td>\n",
       "    </tr>\n",
       "    <tr>\n",
       "      <th>71095</th>\n",
       "      <td>2RSSE.1c.1</td>\n",
       "      <td>None</td>\n",
       "      <td>None</td>\n",
       "    </tr>\n",
       "    <tr>\n",
       "      <th>71096</th>\n",
       "      <td>2RSSE.6</td>\n",
       "      <td>None</td>\n",
       "      <td>None</td>\n",
       "    </tr>\n",
       "    <tr>\n",
       "      <th>71097</th>\n",
       "      <td>2RSSE.3</td>\n",
       "      <td>None</td>\n",
       "      <td>None</td>\n",
       "    </tr>\n",
       "    <tr>\n",
       "      <th>71098</th>\n",
       "      <td>2RSSE.5</td>\n",
       "      <td>None</td>\n",
       "      <td>None</td>\n",
       "    </tr>\n",
       "    <tr>\n",
       "      <th>71099</th>\n",
       "      <td>2RSSE.7</td>\n",
       "      <td>None</td>\n",
       "      <td>None</td>\n",
       "    </tr>\n",
       "  </tbody>\n",
       "</table>\n",
       "<p>71100 rows × 3 columns</p>\n",
       "</div>"
      ],
      "text/plain": [
       "             gene ee_domain l3_domain\n",
       "0          MTCE.1      None      None\n",
       "1          MTCE.2      None      None\n",
       "2        MTCE.3.1      None      None\n",
       "3        MTCE.4.1      None      None\n",
       "4          MTCE.5      None      None\n",
       "...           ...       ...       ...\n",
       "71095  2RSSE.1c.1      None      None\n",
       "71096     2RSSE.6      None      None\n",
       "71097     2RSSE.3      None      None\n",
       "71098     2RSSE.5      None      None\n",
       "71099     2RSSE.7      None      None\n",
       "\n",
       "[71100 rows x 3 columns]"
      ]
     },
     "execution_count": 129,
     "metadata": {},
     "output_type": "execute_result"
    }
   ],
   "source": [
    "genes_in_domains_good"
   ]
  },
  {
   "cell_type": "code",
   "execution_count": null,
   "id": "exotic-zimbabwe",
   "metadata": {},
   "outputs": [],
   "source": [
    "def find_number()"
   ]
  },
  {
   "cell_type": "code",
   "execution_count": null,
   "id": "individual-pixel",
   "metadata": {},
   "outputs": [],
   "source": [
    "outcomehash=dict()\n",
    "for stage in ['ee','l3']:\n",
    "    if stage='ee':df=ee_df\n",
    "    if stage='l3':df=l3_df\n",
    "    outcomehash[stage]=dict()\n",
    "    for region_type in ['a','b','r']:\n",
    "        outcomehash[stage][region_type]=dict()\n",
    "        outcomehash[stage][region_type]['gene_number']=df\n",
    "    "
   ]
  },
  {
   "cell_type": "code",
   "execution_count": 84,
   "id": "increasing-penguin",
   "metadata": {},
   "outputs": [],
   "source": [
    "ee_a_genes_df=ee_df.iloc[a_genes_ee,:]"
   ]
  }
 ],
 "metadata": {
  "kernelspec": {
   "display_name": "Python 3",
   "language": "python",
   "name": "python3"
  },
  "language_info": {
   "codemirror_mode": {
    "name": "ipython",
    "version": 3
   },
   "file_extension": ".py",
   "mimetype": "text/x-python",
   "name": "python",
   "nbconvert_exporter": "python",
   "pygments_lexer": "ipython3",
   "version": "3.7.9"
  }
 },
 "nbformat": 4,
 "nbformat_minor": 5
}
