{
 "cells": [
  {
   "cell_type": "markdown",
   "id": "saved-greensboro",
   "metadata": {},
   "source": [
    "This notebook has the code for:\n",
    "1) Making a table with the corresponding gene name for each transcript from wormbase\n",
    "2) Making a table with just one entry per gene, with locations corresponding to the longest transcript"
   ]
  },
  {
   "cell_type": "code",
   "execution_count": 1,
   "id": "senior-blond",
   "metadata": {},
   "outputs": [],
   "source": [
    "import pandas as pd\n",
    "import numpy as np\n",
    "import pybedtools"
   ]
  },
  {
   "cell_type": "code",
   "execution_count": 2,
   "id": "radio-surprise",
   "metadata": {},
   "outputs": [],
   "source": [
    "from collections import defaultdict"
   ]
  },
  {
   "cell_type": "code",
   "execution_count": 3,
   "id": "fixed-submission",
   "metadata": {},
   "outputs": [],
   "source": [
    "import matplotlib.pyplot as plt\n",
    "import seaborn as sns"
   ]
  },
  {
   "cell_type": "code",
   "execution_count": 4,
   "id": "blank-honduras",
   "metadata": {},
   "outputs": [
    {
     "name": "stdout",
     "output_type": "stream",
     "text": [
      "README.txt\r\n",
      "briggsae_get_good_gene_df.ipynb\r\n",
      "briggsae_one_of_each_gene.bed\r\n",
      "briggsae_to_compare.bed\r\n",
      "c_briggsae_PRJNA10731.WS275.canonical_geneset.bed\r\n",
      "c_briggsae_transcripts_and_genes.txt\r\n",
      "c_elegans_PRJNA13758.WS275.canonical_geneset.bed\r\n",
      "c_elegans_transcripts_and_genes.txt\r\n",
      "elegans_get_good_gene_df.ipynb\r\n",
      "elegans_one_of_each_gene.bed\r\n",
      "elegans_to_compare.bed\r\n",
      "get_transcript_to_gene_map.ipynb\r\n",
      "non_bed\r\n"
     ]
    }
   ],
   "source": [
    "!ls"
   ]
  },
  {
   "cell_type": "markdown",
   "id": "direct-sherman",
   "metadata": {},
   "source": [
    "### Reading in files"
   ]
  },
  {
   "cell_type": "code",
   "execution_count": 2,
   "id": "supreme-eight",
   "metadata": {},
   "outputs": [],
   "source": [
    "chrom_bed_columns=['chrom','chromStart','chromEnd','name',\n",
    "       'score','strand','thickStart','thickEnd','itemRgb']\n",
    "bed_12_columns=['chrom','chromStart','chromEnd','name',\n",
    "       'score','strand','thickStart','thickEnd','itemRgb',\n",
    "        'blockCount', 'blockSizes', 'blockStart']"
   ]
  },
  {
   "cell_type": "code",
   "execution_count": 6,
   "id": "invisible-riding",
   "metadata": {},
   "outputs": [],
   "source": [
    "# all the transcripts with all the info from wormbase (no gene IDs)\n",
    "ts=pd.read_csv('../canonical_genesets/c_elegans_PRJNA13758.WS275.canonical_geneset.bed', names=bed_12_columns,sep='\\t')\n",
    "\n",
    "# only coding transcripts and their corresponding gene ID from Francesco\n",
    "ts_gs=pd.read_csv('../canonical_genesets/c_elegans_transcripts_and_genes.txt',names=['gene','transcript'], sep='\\t')"
   ]
  },
  {
   "cell_type": "code",
   "execution_count": 8,
   "id": "modern-henry",
   "metadata": {},
   "outputs": [
    {
     "data": {
      "text/html": [
       "<div>\n",
       "<style scoped>\n",
       "    .dataframe tbody tr th:only-of-type {\n",
       "        vertical-align: middle;\n",
       "    }\n",
       "\n",
       "    .dataframe tbody tr th {\n",
       "        vertical-align: top;\n",
       "    }\n",
       "\n",
       "    .dataframe thead th {\n",
       "        text-align: right;\n",
       "    }\n",
       "</style>\n",
       "<table border=\"1\" class=\"dataframe\">\n",
       "  <thead>\n",
       "    <tr style=\"text-align: right;\">\n",
       "      <th></th>\n",
       "      <th>chrom</th>\n",
       "      <th>chromStart</th>\n",
       "      <th>chromEnd</th>\n",
       "      <th>name</th>\n",
       "      <th>score</th>\n",
       "      <th>strand</th>\n",
       "      <th>thickStart</th>\n",
       "      <th>thickEnd</th>\n",
       "      <th>itemRgb</th>\n",
       "      <th>blockCount</th>\n",
       "      <th>blockSizes</th>\n",
       "      <th>blockStart</th>\n",
       "    </tr>\n",
       "  </thead>\n",
       "  <tbody>\n",
       "    <tr>\n",
       "      <th>0</th>\n",
       "      <td>MtDNA</td>\n",
       "      <td>0</td>\n",
       "      <td>55</td>\n",
       "      <td>MTCE.1</td>\n",
       "      <td>0</td>\n",
       "      <td>+</td>\n",
       "      <td>55</td>\n",
       "      <td>55</td>\n",
       "      <td>0</td>\n",
       "      <td>1</td>\n",
       "      <td>55,</td>\n",
       "      <td>0,</td>\n",
       "    </tr>\n",
       "    <tr>\n",
       "      <th>1</th>\n",
       "      <td>MtDNA</td>\n",
       "      <td>57</td>\n",
       "      <td>111</td>\n",
       "      <td>MTCE.2</td>\n",
       "      <td>0</td>\n",
       "      <td>+</td>\n",
       "      <td>111</td>\n",
       "      <td>111</td>\n",
       "      <td>0</td>\n",
       "      <td>1</td>\n",
       "      <td>54,</td>\n",
       "      <td>0,</td>\n",
       "    </tr>\n",
       "    <tr>\n",
       "      <th>2</th>\n",
       "      <td>MtDNA</td>\n",
       "      <td>112</td>\n",
       "      <td>549</td>\n",
       "      <td>MTCE.3.1</td>\n",
       "      <td>0</td>\n",
       "      <td>+</td>\n",
       "      <td>112</td>\n",
       "      <td>544</td>\n",
       "      <td>0</td>\n",
       "      <td>1</td>\n",
       "      <td>437,</td>\n",
       "      <td>0,</td>\n",
       "    </tr>\n",
       "    <tr>\n",
       "      <th>3</th>\n",
       "      <td>MtDNA</td>\n",
       "      <td>548</td>\n",
       "      <td>783</td>\n",
       "      <td>MTCE.4.1</td>\n",
       "      <td>0</td>\n",
       "      <td>+</td>\n",
       "      <td>548</td>\n",
       "      <td>779</td>\n",
       "      <td>0</td>\n",
       "      <td>1</td>\n",
       "      <td>235,</td>\n",
       "      <td>0,</td>\n",
       "    </tr>\n",
       "    <tr>\n",
       "      <th>4</th>\n",
       "      <td>MtDNA</td>\n",
       "      <td>784</td>\n",
       "      <td>840</td>\n",
       "      <td>MTCE.5</td>\n",
       "      <td>0</td>\n",
       "      <td>+</td>\n",
       "      <td>840</td>\n",
       "      <td>840</td>\n",
       "      <td>0</td>\n",
       "      <td>1</td>\n",
       "      <td>56,</td>\n",
       "      <td>0,</td>\n",
       "    </tr>\n",
       "    <tr>\n",
       "      <th>...</th>\n",
       "      <td>...</td>\n",
       "      <td>...</td>\n",
       "      <td>...</td>\n",
       "      <td>...</td>\n",
       "      <td>...</td>\n",
       "      <td>...</td>\n",
       "      <td>...</td>\n",
       "      <td>...</td>\n",
       "      <td>...</td>\n",
       "      <td>...</td>\n",
       "      <td>...</td>\n",
       "      <td>...</td>\n",
       "    </tr>\n",
       "    <tr>\n",
       "      <th>71095</th>\n",
       "      <td>II</td>\n",
       "      <td>15268211</td>\n",
       "      <td>15271972</td>\n",
       "      <td>2RSSE.1c.1</td>\n",
       "      <td>0</td>\n",
       "      <td>+</td>\n",
       "      <td>15268480</td>\n",
       "      <td>15270990</td>\n",
       "      <td>0</td>\n",
       "      <td>4</td>\n",
       "      <td>343,336,172,1177,</td>\n",
       "      <td>0,1247,1648,2584,</td>\n",
       "    </tr>\n",
       "    <tr>\n",
       "      <th>71096</th>\n",
       "      <td>II</td>\n",
       "      <td>15273616</td>\n",
       "      <td>15273693</td>\n",
       "      <td>2RSSE.6</td>\n",
       "      <td>0</td>\n",
       "      <td>+</td>\n",
       "      <td>15273693</td>\n",
       "      <td>15273693</td>\n",
       "      <td>0</td>\n",
       "      <td>1</td>\n",
       "      <td>77,</td>\n",
       "      <td>0,</td>\n",
       "    </tr>\n",
       "    <tr>\n",
       "      <th>71097</th>\n",
       "      <td>II</td>\n",
       "      <td>15277889</td>\n",
       "      <td>15278575</td>\n",
       "      <td>2RSSE.3</td>\n",
       "      <td>0</td>\n",
       "      <td>-</td>\n",
       "      <td>15278575</td>\n",
       "      <td>15278575</td>\n",
       "      <td>0</td>\n",
       "      <td>3</td>\n",
       "      <td>156,108,301,</td>\n",
       "      <td>0,230,385,</td>\n",
       "    </tr>\n",
       "    <tr>\n",
       "      <th>71098</th>\n",
       "      <td>II</td>\n",
       "      <td>15279228</td>\n",
       "      <td>15279420</td>\n",
       "      <td>2RSSE.5</td>\n",
       "      <td>0</td>\n",
       "      <td>+</td>\n",
       "      <td>15279420</td>\n",
       "      <td>15279420</td>\n",
       "      <td>0</td>\n",
       "      <td>1</td>\n",
       "      <td>192,</td>\n",
       "      <td>0,</td>\n",
       "    </tr>\n",
       "    <tr>\n",
       "      <th>71099</th>\n",
       "      <td>II</td>\n",
       "      <td>15279228</td>\n",
       "      <td>15279420</td>\n",
       "      <td>2RSSE.7</td>\n",
       "      <td>0</td>\n",
       "      <td>-</td>\n",
       "      <td>15279420</td>\n",
       "      <td>15279420</td>\n",
       "      <td>0</td>\n",
       "      <td>1</td>\n",
       "      <td>192,</td>\n",
       "      <td>0,</td>\n",
       "    </tr>\n",
       "  </tbody>\n",
       "</table>\n",
       "<p>71100 rows × 12 columns</p>\n",
       "</div>"
      ],
      "text/plain": [
       "       chrom  chromStart  chromEnd        name  score strand  thickStart  \\\n",
       "0      MtDNA           0        55      MTCE.1      0      +          55   \n",
       "1      MtDNA          57       111      MTCE.2      0      +         111   \n",
       "2      MtDNA         112       549    MTCE.3.1      0      +         112   \n",
       "3      MtDNA         548       783    MTCE.4.1      0      +         548   \n",
       "4      MtDNA         784       840      MTCE.5      0      +         840   \n",
       "...      ...         ...       ...         ...    ...    ...         ...   \n",
       "71095     II    15268211  15271972  2RSSE.1c.1      0      +    15268480   \n",
       "71096     II    15273616  15273693     2RSSE.6      0      +    15273693   \n",
       "71097     II    15277889  15278575     2RSSE.3      0      -    15278575   \n",
       "71098     II    15279228  15279420     2RSSE.5      0      +    15279420   \n",
       "71099     II    15279228  15279420     2RSSE.7      0      -    15279420   \n",
       "\n",
       "       thickEnd  itemRgb  blockCount         blockSizes         blockStart  \n",
       "0            55        0           1                55,                 0,  \n",
       "1           111        0           1                54,                 0,  \n",
       "2           544        0           1               437,                 0,  \n",
       "3           779        0           1               235,                 0,  \n",
       "4           840        0           1                56,                 0,  \n",
       "...         ...      ...         ...                ...                ...  \n",
       "71095  15270990        0           4  343,336,172,1177,  0,1247,1648,2584,  \n",
       "71096  15273693        0           1                77,                 0,  \n",
       "71097  15278575        0           3       156,108,301,         0,230,385,  \n",
       "71098  15279420        0           1               192,                 0,  \n",
       "71099  15279420        0           1               192,                 0,  \n",
       "\n",
       "[71100 rows x 12 columns]"
      ]
     },
     "execution_count": 8,
     "metadata": {},
     "output_type": "execute_result"
    }
   ],
   "source": [
    "ts"
   ]
  },
  {
   "cell_type": "code",
   "execution_count": 7,
   "id": "presidential-birth",
   "metadata": {},
   "outputs": [
    {
     "data": {
      "text/html": [
       "<div>\n",
       "<style scoped>\n",
       "    .dataframe tbody tr th:only-of-type {\n",
       "        vertical-align: middle;\n",
       "    }\n",
       "\n",
       "    .dataframe tbody tr th {\n",
       "        vertical-align: top;\n",
       "    }\n",
       "\n",
       "    .dataframe thead th {\n",
       "        text-align: right;\n",
       "    }\n",
       "</style>\n",
       "<table border=\"1\" class=\"dataframe\">\n",
       "  <thead>\n",
       "    <tr style=\"text-align: right;\">\n",
       "      <th></th>\n",
       "      <th>gene</th>\n",
       "      <th>transcript</th>\n",
       "    </tr>\n",
       "  </thead>\n",
       "  <tbody>\n",
       "    <tr>\n",
       "      <th>0</th>\n",
       "      <td>WBGene00022277</td>\n",
       "      <td>Y74C9A.3.2</td>\n",
       "    </tr>\n",
       "    <tr>\n",
       "      <th>1</th>\n",
       "      <td>WBGene00022277</td>\n",
       "      <td>Y74C9A.3.1</td>\n",
       "    </tr>\n",
       "    <tr>\n",
       "      <th>2</th>\n",
       "      <td>WBGene00022276</td>\n",
       "      <td>Y74C9A.2a.1</td>\n",
       "    </tr>\n",
       "    <tr>\n",
       "      <th>3</th>\n",
       "      <td>WBGene00022276</td>\n",
       "      <td>Y74C9A.2a.3</td>\n",
       "    </tr>\n",
       "    <tr>\n",
       "      <th>4</th>\n",
       "      <td>WBGene00022276</td>\n",
       "      <td>Y74C9A.2a.4</td>\n",
       "    </tr>\n",
       "    <tr>\n",
       "      <th>...</th>\n",
       "      <td>...</td>\n",
       "      <td>...</td>\n",
       "    </tr>\n",
       "    <tr>\n",
       "      <th>43035</th>\n",
       "      <td>WBGene00017625</td>\n",
       "      <td>F20B4.6.1</td>\n",
       "    </tr>\n",
       "    <tr>\n",
       "      <th>43036</th>\n",
       "      <td>WBGene00017625</td>\n",
       "      <td>F20B4.6.2</td>\n",
       "    </tr>\n",
       "    <tr>\n",
       "      <th>43037</th>\n",
       "      <td>WBGene00019189</td>\n",
       "      <td>H11L12.1.1</td>\n",
       "    </tr>\n",
       "    <tr>\n",
       "      <th>43038</th>\n",
       "      <td>WBGene00007068</td>\n",
       "      <td>cTel55X.1b.1</td>\n",
       "    </tr>\n",
       "    <tr>\n",
       "      <th>43039</th>\n",
       "      <td>WBGene00007068</td>\n",
       "      <td>cTel55X.1a.1</td>\n",
       "    </tr>\n",
       "  </tbody>\n",
       "</table>\n",
       "<p>43040 rows × 2 columns</p>\n",
       "</div>"
      ],
      "text/plain": [
       "                 gene    transcript\n",
       "0      WBGene00022277    Y74C9A.3.2\n",
       "1      WBGene00022277    Y74C9A.3.1\n",
       "2      WBGene00022276   Y74C9A.2a.1\n",
       "3      WBGene00022276   Y74C9A.2a.3\n",
       "4      WBGene00022276   Y74C9A.2a.4\n",
       "...               ...           ...\n",
       "43035  WBGene00017625     F20B4.6.1\n",
       "43036  WBGene00017625     F20B4.6.2\n",
       "43037  WBGene00019189    H11L12.1.1\n",
       "43038  WBGene00007068  cTel55X.1b.1\n",
       "43039  WBGene00007068  cTel55X.1a.1\n",
       "\n",
       "[43040 rows x 2 columns]"
      ]
     },
     "execution_count": 7,
     "metadata": {},
     "output_type": "execute_result"
    }
   ],
   "source": [
    "ts_gs"
   ]
  },
  {
   "cell_type": "markdown",
   "id": "alpha-carpet",
   "metadata": {},
   "source": [
    "### Making a bed file that has every gene only once, using the coordinates of the longest transcript from the wormbase document"
   ]
  },
  {
   "cell_type": "code",
   "execution_count": 9,
   "id": "determined-merit",
   "metadata": {},
   "outputs": [],
   "source": [
    "# add the gene IDs to the transcript data frame from wormbase\n",
    "\n",
    "total_df=ts\n",
    "total_df['gene']=''\n",
    "\n",
    "for i in range(len(ts_gs)):\n",
    "    row=total_df.index[total_df['name']==ts_gs['transcript'][i]]\n",
    "    total_df.at[row,'gene']=ts_gs['gene'][i]"
   ]
  },
  {
   "cell_type": "code",
   "execution_count": 256,
   "id": "turkish-bachelor",
   "metadata": {},
   "outputs": [
    {
     "data": {
      "text/plain": [
       "71100"
      ]
     },
     "execution_count": 256,
     "metadata": {},
     "output_type": "execute_result"
    }
   ],
   "source": [
    "len(total_df)"
   ]
  },
  {
   "cell_type": "code",
   "execution_count": 267,
   "id": "union-glance",
   "metadata": {},
   "outputs": [],
   "source": [
    "# These are the transcripts from wormbase that don't have a corresponding gene ID from the document from Francesco\n",
    "# These correspond mostly to noncoding RNAs, and the project won't deal with them (too divergent and repetitive, difficult to do orthology)\n",
    "\n",
    "absent_df=total_df[total_df['gene']=='']\n",
    "absent_df.to_csv('absent_transcripts.bed',header=False,index=False, sep='\\t')"
   ]
  },
  {
   "cell_type": "code",
   "execution_count": 273,
   "id": "developmental-macintosh",
   "metadata": {},
   "outputs": [
    {
     "data": {
      "text/plain": [
       "43040"
      ]
     },
     "execution_count": 273,
     "metadata": {},
     "output_type": "execute_result"
    }
   ],
   "source": [
    "# These are the coding transcripts that we'll be looking at\n",
    "\n",
    "genes_df=total_df[total_df['gene']!='']\n",
    "len(genes_df)"
   ]
  },
  {
   "cell_type": "code",
   "execution_count": null,
   "id": "antique-investigator",
   "metadata": {},
   "outputs": [],
   "source": [
    "# get a list of each gene just once\n",
    "\n",
    "one_of_each_gene=[]\n",
    "for i in ts_gs['gene']:\n",
    "    if i not in one_of_each_gene:\n",
    "        one_of_each_gene.append(i)"
   ]
  },
  {
   "cell_type": "code",
   "execution_count": 277,
   "id": "immune-nursery",
   "metadata": {},
   "outputs": [
    {
     "name": "stderr",
     "output_type": "stream",
     "text": [
      "/home/helena_hatrick/miniconda3/envs/part_ii_project/lib/python3.7/site-packages/ipykernel_launcher.py:1: SettingWithCopyWarning: \n",
      "A value is trying to be set on a copy of a slice from a DataFrame.\n",
      "Try using .loc[row_indexer,col_indexer] = value instead\n",
      "\n",
      "See the caveats in the documentation: https://pandas.pydata.org/pandas-docs/stable/user_guide/indexing.html#returning-a-view-versus-a-copy\n",
      "  \"\"\"Entry point for launching an IPython kernel.\n"
     ]
    }
   ],
   "source": [
    "# Find longest isoform\n",
    "\n",
    "genes_df['transcript_size']=list(genes_df['chromEnd']-genes_df['chromStart'])"
   ]
  },
  {
   "cell_type": "code",
   "execution_count": 326,
   "id": "worldwide-component",
   "metadata": {},
   "outputs": [],
   "source": [
    "# make a table of just the longest isoforms of each gene\n",
    "\n",
    "one_to_one=pd.DataFrame(columns=genes_df.columns)\n",
    "for i in one_of_each_gene:\n",
    "    to_compare=genes_df[genes_df['gene']==i]\n",
    "    longest=to_compare['transcript_size'].argmax()\n",
    "    row=to_compare.iloc[longest,:]\n",
    "    to_concat=row.to_frame().T\n",
    "    one_to_one=pd.concat([one_to_one, to_concat])"
   ]
  },
  {
   "cell_type": "code",
   "execution_count": 334,
   "id": "ruled-bundle",
   "metadata": {},
   "outputs": [],
   "source": [
    "# get into bed format\n",
    "\n",
    "one_to_one['name']=one_to_one['gene']\n",
    "one_to_one=one_to_one.drop('transcript_size', axis=1).drop('gene', axis=1)"
   ]
  },
  {
   "cell_type": "code",
   "execution_count": 336,
   "id": "forward-shower",
   "metadata": {},
   "outputs": [],
   "source": [
    "one_to_one.to_csv('/home/helena_hatrick/part_ii_project/canonical_genesets/elegans_one_of_each_gene.bed', header=False, index=False, sep='\\t')"
   ]
  },
  {
   "cell_type": "code",
   "execution_count": 1,
   "id": "sixth-expert",
   "metadata": {},
   "outputs": [],
   "source": [
    "import pandas as pd"
   ]
  },
  {
   "cell_type": "code",
   "execution_count": 5,
   "id": "communist-kansas",
   "metadata": {},
   "outputs": [],
   "source": [
    "test=pd.read_csv('/home/helena_hatrick/part_ii_project/canonical_genesets/elegans_one_of_each_gene.bed',names=bed_12_columns,sep='\\t')"
   ]
  },
  {
   "cell_type": "code",
   "execution_count": 6,
   "id": "neither-cookbook",
   "metadata": {},
   "outputs": [
    {
     "data": {
      "text/html": [
       "<div>\n",
       "<style scoped>\n",
       "    .dataframe tbody tr th:only-of-type {\n",
       "        vertical-align: middle;\n",
       "    }\n",
       "\n",
       "    .dataframe tbody tr th {\n",
       "        vertical-align: top;\n",
       "    }\n",
       "\n",
       "    .dataframe thead th {\n",
       "        text-align: right;\n",
       "    }\n",
       "</style>\n",
       "<table border=\"1\" class=\"dataframe\">\n",
       "  <thead>\n",
       "    <tr style=\"text-align: right;\">\n",
       "      <th></th>\n",
       "      <th>chrom</th>\n",
       "      <th>chromStart</th>\n",
       "      <th>chromEnd</th>\n",
       "      <th>name</th>\n",
       "      <th>score</th>\n",
       "      <th>strand</th>\n",
       "      <th>thickStart</th>\n",
       "      <th>thickEnd</th>\n",
       "      <th>itemRgb</th>\n",
       "      <th>blockCount</th>\n",
       "      <th>blockSizes</th>\n",
       "      <th>blockStart</th>\n",
       "    </tr>\n",
       "  </thead>\n",
       "  <tbody>\n",
       "    <tr>\n",
       "      <th>2855</th>\n",
       "      <td>I</td>\n",
       "      <td>14875783</td>\n",
       "      <td>14900213</td>\n",
       "      <td>WBGene00001488</td>\n",
       "      <td>0</td>\n",
       "      <td>-</td>\n",
       "      <td>14876395</td>\n",
       "      <td>14900213</td>\n",
       "      <td>0</td>\n",
       "      <td>13</td>\n",
       "      <td>702,153,277,101,123,11688,68,167,251,398,151,1...</td>\n",
       "      <td>0,1414,2181,3109,5268,6271,18792,18909,19402,2...</td>\n",
       "    </tr>\n",
       "  </tbody>\n",
       "</table>\n",
       "</div>"
      ],
      "text/plain": [
       "     chrom  chromStart  chromEnd            name  score strand  thickStart  \\\n",
       "2855     I    14875783  14900213  WBGene00001488      0      -    14876395   \n",
       "\n",
       "      thickEnd  itemRgb  blockCount  \\\n",
       "2855  14900213        0          13   \n",
       "\n",
       "                                             blockSizes  \\\n",
       "2855  702,153,277,101,123,11688,68,167,251,398,151,1...   \n",
       "\n",
       "                                             blockStart  \n",
       "2855  0,1414,2181,3109,5268,6271,18792,18909,19402,2...  "
      ]
     },
     "execution_count": 6,
     "metadata": {},
     "output_type": "execute_result"
    }
   ],
   "source": [
    "test[test['name']=='WBGene00001488']"
   ]
  },
  {
   "cell_type": "code",
   "execution_count": null,
   "id": "eligible-values",
   "metadata": {},
   "outputs": [],
   "source": []
  }
 ],
 "metadata": {
  "kernelspec": {
   "display_name": "Python 3",
   "language": "python",
   "name": "python3"
  },
  "language_info": {
   "codemirror_mode": {
    "name": "ipython",
    "version": 3
   },
   "file_extension": ".py",
   "mimetype": "text/x-python",
   "name": "python",
   "nbconvert_exporter": "python",
   "pygments_lexer": "ipython3",
   "version": "3.7.9"
  }
 },
 "nbformat": 4,
 "nbformat_minor": 5
}
